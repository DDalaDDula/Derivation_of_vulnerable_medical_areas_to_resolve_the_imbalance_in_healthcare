{
 "cells": [
  {
   "attachments": {},
   "cell_type": "markdown",
   "metadata": {},
   "source": [
    "## 기본설정 및 함수정의"
   ]
  },
  {
   "cell_type": "code",
   "execution_count": 2,
   "metadata": {},
   "outputs": [],
   "source": [
    "import pandas as pd\n",
    "import numpy as np\n",
    "import plotly.express as px\n",
    "import plotly.graph_objects as go\n",
    "import plotly.graph_objs as go\n",
    "import plotly.offline as offline\n",
    "from folium.plugins import HeatMapWithTime\n",
    "from plotly.subplots import make_subplots\n",
    "import folium\n",
    "from folium import plugins\n",
    "from folium.plugins import HeatMap\n",
    "from folium import FeatureGroup\n",
    "import json\n",
    "import math\n",
    "import re\n",
    "from datetime import datetime\n",
    "import os\n",
    "import glob\n",
    "import subprocess\n",
    "from bs4 import BeautifulSoup as bs\n",
    "from shapely.geometry import Point, Polygon, LineString\n",
    "from shapely.ops import unary_union\n",
    "import geopandas as gpd\n",
    "from geopandas import GeoSeries\n",
    "import pyproj\n",
    "from tqdm import tqdm\n",
    "from keplergl import KeplerGl\n",
    "\n",
    "# 모든 열이 생략되지 않도록 설정\n",
    "pd.set_option('display.max_columns', None)\n",
    "\n",
    "# 아산시청 위도, 경도\n",
    "Asan = [36.789882248764656, 127.00274491353838]\n",
    "\n",
    "# Polygon을 만드는 함수\n",
    "def make_pol(x):\n",
    "    try:\n",
    "        return Polygon(x[0])\n",
    "    except:\n",
    "        return Polygon(x[0][0])\n",
    "    \n",
    "# Linestring을 만드는 함수\n",
    "def make_lin(x):\n",
    "    try:\n",
    "        return LineString(x)\n",
    "    except:\n",
    "        return LineString(x[0])\n",
    "\n",
    "# 데이터프레임을 GeoPandas 데이터프레임으로 변환하는 함수 정의\n",
    "def geo_transform(DataFrame) :\n",
    "    # csv to geopandas\n",
    "    # lon, lat data를 geometry로 변경\n",
    "    DataFrame['lat'] = DataFrame['lat'].astype(float)\n",
    "    DataFrame['lon'] = DataFrame['lon'].astype(float)\n",
    "    DataFrame['geometry'] = DataFrame.apply(lambda row : Point([row['lon'], row['lat']]), axis=1) # 위도 및 경도롤 GeoPandas Point 객체로 변환\n",
    "    DataFrame = gpd.GeoDataFrame(DataFrame, geometry='geometry')\n",
    "    DataFrame.crs = {'init':'epsg:4326'} # geopandas 데이터프레임의 좌표계를 EPSG 4326으로 설정\n",
    "    DataFrame = DataFrame.to_crs({'init':'epsg:4326'}) # 데이터프레임의 좌표계를 자체 좌표계에서 EPSG 4326으로 변환\n",
    "    return DataFrame"
   ]
  },
  {
   "cell_type": "markdown",
   "metadata": {},
   "source": [
    "#### 아산시 행정경계 (출처 - 통계지리정보서비스 2023년 센서스용 행정구역경계(읍면동))"
   ]
  },
  {
   "cell_type": "code",
   "execution_count": 3,
   "metadata": {},
   "outputs": [],
   "source": [
    "# shp to geodataframe convert\n",
    "shapefile_path = \"SBJ_2405_001/_census_data_2023_bnd_dong_bnd_dong_34040_2023_2023/bnd_dong_34040_2023_2023_2Q.shp\"\n",
    "asan_gdf = gpd.read_file(shapefile_path)\n",
    "asan_gdf = asan_gdf.to_crs(epsg=4326) #EPSG4326 형식으로 변환\n",
    "\n",
    "# 행정동 구분에 따라 색 구분하는 함수\n",
    "def hjd_color(name):\n",
    "    if name[-1] == '읍':\n",
    "        return 'green'\n",
    "    elif name[-1] == '면':\n",
    "        return 'yellow'\n",
    "    elif name[-1] == '동':\n",
    "        return 'red'\n",
    "\n",
    "asan_gdf['color'] = asan_gdf['ADM_NM'].apply(hjd_color)"
   ]
  },
  {
   "cell_type": "code",
   "execution_count": null,
   "metadata": {},
   "outputs": [],
   "source": [
    "# map 생성\n",
    "m = folium.Map(location=Asan, tiles='cartodbpositron', zoom_start=11)\n",
    "\n",
    "# 필터링된 원도심 grid(격자) 추가\n",
    "folium.TileLayer('cartodbpositron', overlay=False).add_to(m)\n",
    "for _, row in asan_gdf.iterrows() :\n",
    "    color = row['color']\n",
    "    folium.GeoJson(\n",
    "        row['geometry'],\n",
    "        name=row['ADM_NM'],\n",
    "        style_function=lambda feature, color=color:{\n",
    "            'fillColor': color,\n",
    "            'color': 'black',\n",
    "            'weight': 1\n",
    "        }).add_to(m)\n",
    "# 맵 출력\n",
    "m"
   ]
  },
  {
   "cell_type": "code",
   "execution_count": 68,
   "metadata": {},
   "outputs": [],
   "source": [
    "m.save(\"visualization/아산시 행정경계.html\")"
   ]
  },
  {
   "attachments": {},
   "cell_type": "markdown",
   "metadata": {},
   "source": [
    "#### 격자(매핑용)"
   ]
  },
  {
   "cell_type": "code",
   "execution_count": 4,
   "metadata": {},
   "outputs": [],
   "source": [
    "# GeoJSON 파일 불러오기\n",
    "with open('SBJ_2405_001/12.아산시_격자(매핑용).geojson', encoding=\"UTF8\") as geojson_file:\n",
    "    geojson_data = json.load(geojson_file)\n",
    "grid_map_df = pd.json_normalize(geojson_data['features'])\n",
    "grid_map_df['geometry'] = grid_map_df['geometry.coordinates'].apply(lambda x : make_pol(x))\n",
    "# grid_map_df 데이터프레임을 GeoDataFrame으로 변환\n",
    "grid_map_df = gpd.GeoDataFrame(grid_map_df, geometry='geometry')"
   ]
  },
  {
   "cell_type": "code",
   "execution_count": 75,
   "metadata": {},
   "outputs": [
    {
     "data": {
      "text/html": [
       "<div>\n",
       "<style scoped>\n",
       "    .dataframe tbody tr th:only-of-type {\n",
       "        vertical-align: middle;\n",
       "    }\n",
       "\n",
       "    .dataframe tbody tr th {\n",
       "        vertical-align: top;\n",
       "    }\n",
       "\n",
       "    .dataframe thead th {\n",
       "        text-align: right;\n",
       "    }\n",
       "</style>\n",
       "<table border=\"1\" class=\"dataframe\">\n",
       "  <thead>\n",
       "    <tr style=\"text-align: right;\">\n",
       "      <th></th>\n",
       "      <th>type</th>\n",
       "      <th>properties.gid</th>\n",
       "      <th>geometry.type</th>\n",
       "      <th>geometry.coordinates</th>\n",
       "      <th>geometry</th>\n",
       "    </tr>\n",
       "  </thead>\n",
       "  <tbody>\n",
       "    <tr>\n",
       "      <th>0</th>\n",
       "      <td>Feature</td>\n",
       "      <td>다바578741</td>\n",
       "      <td>Polygon</td>\n",
       "      <td>[[[127.02655717320954, 36.86422355955024], [12...</td>\n",
       "      <td>POLYGON ((127.02656 36.86422, 127.02655 36.865...</td>\n",
       "    </tr>\n",
       "    <tr>\n",
       "      <th>1</th>\n",
       "      <td>Feature</td>\n",
       "      <td>다바431650</td>\n",
       "      <td>Polygon</td>\n",
       "      <td>[[[126.86232658848016, 36.781423593543536], [1...</td>\n",
       "      <td>POLYGON ((126.86233 36.78142, 126.86232 36.782...</td>\n",
       "    </tr>\n",
       "    <tr>\n",
       "      <th>2</th>\n",
       "      <td>Feature</td>\n",
       "      <td>다바624804</td>\n",
       "      <td>Polygon</td>\n",
       "      <td>[[[127.07785071414338, 36.92120830790351], [12...</td>\n",
       "      <td>POLYGON ((127.07785 36.92121, 127.07785 36.922...</td>\n",
       "    </tr>\n",
       "    <tr>\n",
       "      <th>3</th>\n",
       "      <td>Feature</td>\n",
       "      <td>다바553584</td>\n",
       "      <td>Polygon</td>\n",
       "      <td>[[[126.99943221243078, 36.722582478245315], [1...</td>\n",
       "      <td>POLYGON ((126.99943 36.72258, 126.99943 36.723...</td>\n",
       "    </tr>\n",
       "    <tr>\n",
       "      <th>4</th>\n",
       "      <td>Feature</td>\n",
       "      <td>다바476680</td>\n",
       "      <td>Polygon</td>\n",
       "      <td>[[[126.91254872882273, 36.80872603129526], [12...</td>\n",
       "      <td>POLYGON ((126.91255 36.80873, 126.91254 36.809...</td>\n",
       "    </tr>\n",
       "    <tr>\n",
       "      <th>...</th>\n",
       "      <td>...</td>\n",
       "      <td>...</td>\n",
       "      <td>...</td>\n",
       "      <td>...</td>\n",
       "      <td>...</td>\n",
       "    </tr>\n",
       "    <tr>\n",
       "      <th>55029</th>\n",
       "      <td>Feature</td>\n",
       "      <td>다바468657</td>\n",
       "      <td>Polygon</td>\n",
       "      <td>[[[126.90374117665121, 36.78794862412855], [12...</td>\n",
       "      <td>POLYGON ((126.90374 36.78795, 126.90373 36.788...</td>\n",
       "    </tr>\n",
       "    <tr>\n",
       "      <th>55030</th>\n",
       "      <td>Feature</td>\n",
       "      <td>다바445733</td>\n",
       "      <td>Polygon</td>\n",
       "      <td>[[[126.87740969585435, 36.856324288508205], [1...</td>\n",
       "      <td>POLYGON ((126.87741 36.85632, 126.87740 36.857...</td>\n",
       "    </tr>\n",
       "    <tr>\n",
       "      <th>55031</th>\n",
       "      <td>Feature</td>\n",
       "      <td>다바619594</td>\n",
       "      <td>Polygon</td>\n",
       "      <td>[[[127.07328965706101, 36.73188493870408], [12...</td>\n",
       "      <td>POLYGON ((127.07329 36.73188, 127.07328 36.732...</td>\n",
       "    </tr>\n",
       "    <tr>\n",
       "      <th>55032</th>\n",
       "      <td>Feature</td>\n",
       "      <td>다바532640</td>\n",
       "      <td>Polygon</td>\n",
       "      <td>[[[126.97557306589434, 36.77296209669358], [12...</td>\n",
       "      <td>POLYGON ((126.97557 36.77296, 126.97557 36.773...</td>\n",
       "    </tr>\n",
       "    <tr>\n",
       "      <th>55033</th>\n",
       "      <td>Feature</td>\n",
       "      <td>다바483750</td>\n",
       "      <td>Polygon</td>\n",
       "      <td>[[[126.91991961579241, 36.87186400428774], [12...</td>\n",
       "      <td>POLYGON ((126.91992 36.87186, 126.91991 36.872...</td>\n",
       "    </tr>\n",
       "  </tbody>\n",
       "</table>\n",
       "<p>55034 rows × 5 columns</p>\n",
       "</div>"
      ],
      "text/plain": [
       "          type properties.gid geometry.type  \\\n",
       "0      Feature       다바578741       Polygon   \n",
       "1      Feature       다바431650       Polygon   \n",
       "2      Feature       다바624804       Polygon   \n",
       "3      Feature       다바553584       Polygon   \n",
       "4      Feature       다바476680       Polygon   \n",
       "...        ...            ...           ...   \n",
       "55029  Feature       다바468657       Polygon   \n",
       "55030  Feature       다바445733       Polygon   \n",
       "55031  Feature       다바619594       Polygon   \n",
       "55032  Feature       다바532640       Polygon   \n",
       "55033  Feature       다바483750       Polygon   \n",
       "\n",
       "                                    geometry.coordinates  \\\n",
       "0      [[[127.02655717320954, 36.86422355955024], [12...   \n",
       "1      [[[126.86232658848016, 36.781423593543536], [1...   \n",
       "2      [[[127.07785071414338, 36.92120830790351], [12...   \n",
       "3      [[[126.99943221243078, 36.722582478245315], [1...   \n",
       "4      [[[126.91254872882273, 36.80872603129526], [12...   \n",
       "...                                                  ...   \n",
       "55029  [[[126.90374117665121, 36.78794862412855], [12...   \n",
       "55030  [[[126.87740969585435, 36.856324288508205], [1...   \n",
       "55031  [[[127.07328965706101, 36.73188493870408], [12...   \n",
       "55032  [[[126.97557306589434, 36.77296209669358], [12...   \n",
       "55033  [[[126.91991961579241, 36.87186400428774], [12...   \n",
       "\n",
       "                                                geometry  \n",
       "0      POLYGON ((127.02656 36.86422, 127.02655 36.865...  \n",
       "1      POLYGON ((126.86233 36.78142, 126.86232 36.782...  \n",
       "2      POLYGON ((127.07785 36.92121, 127.07785 36.922...  \n",
       "3      POLYGON ((126.99943 36.72258, 126.99943 36.723...  \n",
       "4      POLYGON ((126.91255 36.80873, 126.91254 36.809...  \n",
       "...                                                  ...  \n",
       "55029  POLYGON ((126.90374 36.78795, 126.90373 36.788...  \n",
       "55030  POLYGON ((126.87741 36.85632, 126.87740 36.857...  \n",
       "55031  POLYGON ((127.07329 36.73188, 127.07328 36.732...  \n",
       "55032  POLYGON ((126.97557 36.77296, 126.97557 36.773...  \n",
       "55033  POLYGON ((126.91992 36.87186, 126.91991 36.872...  \n",
       "\n",
       "[55034 rows x 5 columns]"
      ]
     },
     "execution_count": 75,
     "metadata": {},
     "output_type": "execute_result"
    }
   ],
   "source": [
    "grid_map_df"
   ]
  },
  {
   "cell_type": "code",
   "execution_count": null,
   "metadata": {},
   "outputs": [],
   "source": [
    "# map 생성\n",
    "m = folium.Map(location=Asan, tiles='cartodbpositron', zoom_start=11)\n",
    "\n",
    "# 필터링된 원도심 grid(격자) 추가\n",
    "\n",
    "for _, row in asan_gdf.iterrows() :\n",
    "    color = row['color']\n",
    "    folium.GeoJson(\n",
    "        row['geometry'],\n",
    "        name=row['ADM_NM'],\n",
    "        style_function=lambda feature, color=color:{\n",
    "            'fillColor': color,\n",
    "            'color': 'black',\n",
    "            'weight': 1\n",
    "        }).add_to(m)\n",
    "\n",
    "folium.TileLayer('cartodbpositron', overlay=False).add_to(m)\n",
    "grid_geojson = grid_map_df['geometry'].to_json()\n",
    "grid_layer = folium.GeoJson(\n",
    "    grid_geojson,\n",
    "    name=\"격자\",\n",
    "    style_function=lambda feature: {\n",
    "        'fillColor': 'none',\n",
    "        'color': 'black',\n",
    "        'weight': 0.3\n",
    "    }\n",
    ")\n",
    "grid_layer.add_to(m)\n",
    "# 맵 출력\n",
    "m"
   ]
  },
  {
   "cell_type": "code",
   "execution_count": 74,
   "metadata": {},
   "outputs": [],
   "source": [
    "m.save(\"visualization/아산시 격자.html\")"
   ]
  },
  {
   "attachments": {},
   "cell_type": "markdown",
   "metadata": {},
   "source": [
    "#### 아산시 상세 도로망"
   ]
  },
  {
   "cell_type": "code",
   "execution_count": 5,
   "metadata": {},
   "outputs": [],
   "source": [
    "# GeoJSON 파일 불러오기\n",
    "with open('SBJ_2405_001/4.아산시_상세도로망.geojson', encoding=\"UTF8\") as geojson_file:\n",
    "    geojson_data = json.load(geojson_file)\n",
    "roadsystem_df = pd.json_normalize(geojson_data['features'])\n",
    "roadsystem_df['geometry'] = roadsystem_df['geometry.coordinates'].apply(lambda x : make_lin(x))\n",
    "roadsystem_df['properties.link_id'] = roadsystem_df['properties.link_id'].astype(str)\n",
    "# roadsystem_df 데이터프레임을 GeoDataFrame으로 변환\n",
    "roadsystem_df = gpd.GeoDataFrame(roadsystem_df, geometry='geometry')"
   ]
  },
  {
   "cell_type": "code",
   "execution_count": null,
   "metadata": {},
   "outputs": [],
   "source": [
    "# map 생성\n",
    "m = folium.Map(location=Asan, tiles='cartodbpositron', zoom_start=11)\n",
    "\n",
    "# 통합도로망 추가\n",
    "folium.TileLayer('cartodbpositron', overlay=False).add_to(m)\n",
    "grid_layer = folium.GeoJson(\n",
    "    unary_union(asan_gdf['geometry']),\n",
    "    name=\"아산시 행정동\",\n",
    "    style_function=lambda feature: {\n",
    "        'fillColor': 'none',\n",
    "        'color': 'black',\n",
    "        'weight': 1\n",
    "    }\n",
    ")\n",
    "grid_layer.add_to(m)\n",
    "roal_geojson = roadsystem_df['geometry'].to_json()\n",
    "roal_layer = folium.GeoJson(\n",
    "    roal_geojson,\n",
    "    name=\"도로망\",\n",
    "    style_function=lambda feature: {\n",
    "        'fillColor': 'none',\n",
    "        'color': 'gray',\n",
    "        'weight': 3\n",
    "    })\n",
    "roal_layer.add_to(m)\n",
    "# 맵 출력\n",
    "m"
   ]
  },
  {
   "cell_type": "code",
   "execution_count": 78,
   "metadata": {},
   "outputs": [],
   "source": [
    "m.save(\"visualization/아산시 도로망.html\")"
   ]
  },
  {
   "attachments": {},
   "cell_type": "markdown",
   "metadata": {},
   "source": [
    "## 아산시 주민등록인구 현황"
   ]
  },
  {
   "cell_type": "code",
   "execution_count": 6,
   "metadata": {},
   "outputs": [
    {
     "data": {
      "text/html": [
       "<div>\n",
       "<style scoped>\n",
       "    .dataframe tbody tr th:only-of-type {\n",
       "        vertical-align: middle;\n",
       "    }\n",
       "\n",
       "    .dataframe tbody tr th {\n",
       "        vertical-align: top;\n",
       "    }\n",
       "\n",
       "    .dataframe thead th {\n",
       "        text-align: right;\n",
       "    }\n",
       "</style>\n",
       "<table border=\"1\" class=\"dataframe\">\n",
       "  <thead>\n",
       "    <tr style=\"text-align: right;\">\n",
       "      <th></th>\n",
       "      <th>adm_cd</th>\n",
       "      <th>adm_nm</th>\n",
       "      <th>year</th>\n",
       "      <th>m_pop</th>\n",
       "      <th>fm_pop</th>\n",
       "      <th>tot_pop</th>\n",
       "    </tr>\n",
       "  </thead>\n",
       "  <tbody>\n",
       "    <tr>\n",
       "      <th>0</th>\n",
       "      <td>4420025000</td>\n",
       "      <td>염치읍</td>\n",
       "      <td>202101</td>\n",
       "      <td>3411</td>\n",
       "      <td>3106</td>\n",
       "      <td>6517</td>\n",
       "    </tr>\n",
       "    <tr>\n",
       "      <th>1</th>\n",
       "      <td>4420025300</td>\n",
       "      <td>배방읍</td>\n",
       "      <td>202101</td>\n",
       "      <td>39078</td>\n",
       "      <td>36929</td>\n",
       "      <td>76007</td>\n",
       "    </tr>\n",
       "    <tr>\n",
       "      <th>2</th>\n",
       "      <td>4420031000</td>\n",
       "      <td>송악면</td>\n",
       "      <td>202101</td>\n",
       "      <td>2174</td>\n",
       "      <td>2072</td>\n",
       "      <td>4246</td>\n",
       "    </tr>\n",
       "    <tr>\n",
       "      <th>3</th>\n",
       "      <td>4420033000</td>\n",
       "      <td>탕정면</td>\n",
       "      <td>202101</td>\n",
       "      <td>11783</td>\n",
       "      <td>9959</td>\n",
       "      <td>21742</td>\n",
       "    </tr>\n",
       "    <tr>\n",
       "      <th>4</th>\n",
       "      <td>4420035000</td>\n",
       "      <td>음봉면</td>\n",
       "      <td>202101</td>\n",
       "      <td>10815</td>\n",
       "      <td>9175</td>\n",
       "      <td>19990</td>\n",
       "    </tr>\n",
       "    <tr>\n",
       "      <th>...</th>\n",
       "      <td>...</td>\n",
       "      <td>...</td>\n",
       "      <td>...</td>\n",
       "      <td>...</td>\n",
       "      <td>...</td>\n",
       "      <td>...</td>\n",
       "    </tr>\n",
       "    <tr>\n",
       "      <th>607</th>\n",
       "      <td>4420058000</td>\n",
       "      <td>온양2동</td>\n",
       "      <td>202312</td>\n",
       "      <td>5390</td>\n",
       "      <td>4710</td>\n",
       "      <td>10100</td>\n",
       "    </tr>\n",
       "    <tr>\n",
       "      <th>608</th>\n",
       "      <td>4420059000</td>\n",
       "      <td>온양3동</td>\n",
       "      <td>202312</td>\n",
       "      <td>19547</td>\n",
       "      <td>19569</td>\n",
       "      <td>39116</td>\n",
       "    </tr>\n",
       "    <tr>\n",
       "      <th>609</th>\n",
       "      <td>4420060000</td>\n",
       "      <td>온양4동</td>\n",
       "      <td>202312</td>\n",
       "      <td>8590</td>\n",
       "      <td>8339</td>\n",
       "      <td>16929</td>\n",
       "    </tr>\n",
       "    <tr>\n",
       "      <th>610</th>\n",
       "      <td>4420061000</td>\n",
       "      <td>온양5동</td>\n",
       "      <td>202312</td>\n",
       "      <td>10603</td>\n",
       "      <td>10104</td>\n",
       "      <td>20707</td>\n",
       "    </tr>\n",
       "    <tr>\n",
       "      <th>611</th>\n",
       "      <td>4420062000</td>\n",
       "      <td>온양6동</td>\n",
       "      <td>202312</td>\n",
       "      <td>13322</td>\n",
       "      <td>13499</td>\n",
       "      <td>26821</td>\n",
       "    </tr>\n",
       "  </tbody>\n",
       "</table>\n",
       "<p>612 rows × 6 columns</p>\n",
       "</div>"
      ],
      "text/plain": [
       "         adm_cd adm_nm    year  m_pop  fm_pop  tot_pop\n",
       "0    4420025000    염치읍  202101   3411    3106     6517\n",
       "1    4420025300    배방읍  202101  39078   36929    76007\n",
       "2    4420031000    송악면  202101   2174    2072     4246\n",
       "3    4420033000    탕정면  202101  11783    9959    21742\n",
       "4    4420035000    음봉면  202101  10815    9175    19990\n",
       "..          ...    ...     ...    ...     ...      ...\n",
       "607  4420058000   온양2동  202312   5390    4710    10100\n",
       "608  4420059000   온양3동  202312  19547   19569    39116\n",
       "609  4420060000   온양4동  202312   8590    8339    16929\n",
       "610  4420061000   온양5동  202312  10603   10104    20707\n",
       "611  4420062000   온양6동  202312  13322   13499    26821\n",
       "\n",
       "[612 rows x 6 columns]"
      ]
     },
     "execution_count": 6,
     "metadata": {},
     "output_type": "execute_result"
    }
   ],
   "source": [
    "# 주민등록인구 data load\n",
    "pop_df = pd.read_csv('SBJ_2405_001/2.아산시_주민등록인구현황.csv')\n",
    "pop_df['year'] = pop_df['year'].astype(str)\n",
    "pop_df['adm_nm'] = pop_df['adm_nm'].apply(lambda x:x.split(\" \")[-1])\n",
    "# 남성인구와 여성인구를 더하여 tot_pop(종합인구) column 생성\n",
    "pop_df['tot_pop'] = pop_df.iloc[:,3:5].sum(axis=1)\n",
    "pop_df"
   ]
  },
  {
   "cell_type": "code",
   "execution_count": 7,
   "metadata": {},
   "outputs": [],
   "source": [
    "# target값 list 생성 및 평균값 높은 target순으로 정렬\n",
    "targets = []\n",
    "for target in pop_df['adm_nm'].unique():\n",
    "    pop_hjd = pop_df[pop_df['adm_nm'] == (target)]\n",
    "    targets.append([target,pop_hjd['tot_pop'].mean()])\n",
    "targets = sorted(targets, key=lambda x : x[1], reverse=True)\n",
    "targets = [target[0] for target in targets]\n",
    "\n",
    "# 행정동별 시계열 인구추이 dict생성\n",
    "hjd_pop_dic = {}\n",
    "for target in targets:\n",
    "    pop_hjd = pop_df[pop_df['adm_nm'] == (target)]\n",
    "    pop_hjd = pop_hjd[['year', 'm_pop', 'fm_pop', 'tot_pop']].reset_index(drop=True)\n",
    "    pop_hjd.rename(columns = {'m_pop' : '%s_남'%target, 'fm_pop' : '%s_여'%target, 'tot_pop' : '%s_총합'%target}, inplace = True)\n",
    "    hjd_pop_dic[target] = pop_hjd"
   ]
  },
  {
   "cell_type": "code",
   "execution_count": null,
   "metadata": {},
   "outputs": [],
   "source": [
    "colors =px.colors.sequential.Plasma\n",
    "colors = colors * 2\n",
    "# map 생성\n",
    "m = folium.Map(location=Asan, tiles='cartodbpositron', zoom_start=11)\n",
    "\n",
    "# 필터링된 원도심 grid(격자) 추가\n",
    "folium.TileLayer('cartodbpositron', overlay=False).add_to(m)\n",
    "for i, row in asan_gdf.iterrows() :\n",
    "    color = colors[i]\n",
    "    folium.GeoJson(\n",
    "        row['geometry'],\n",
    "        name=row['ADM_NM'],\n",
    "        style_function=lambda feature, color=color:{\n",
    "            'fillColor': color,\n",
    "            'color': 'black',\n",
    "            'weight': 1\n",
    "        }).add_to(m)\n",
    "# 맵 출력\n",
    "m"
   ]
  },
  {
   "cell_type": "code",
   "execution_count": null,
   "metadata": {},
   "outputs": [],
   "source": [
    "# 빈 그래프\n",
    "fig = go.Figure()\n",
    "\n",
    "# for문을 통해 라인을 추가\n",
    "for target in targets:\n",
    "    fig.add_trace(go.Scatter(x=hjd_pop_dic[target]['year'], y=hjd_pop_dic[target]['%s_총합'%target],\n",
    "                             mode='lines+markers',\n",
    "                             name=target))\n",
    "# 색상 업데이트\n",
    "colors =px.colors.sequential.Plasma # 컬러맵\n",
    "for i, trace in enumerate(fig.data):\n",
    "    trace.line.color = colors[i % len(colors)]\n",
    "    \n",
    "# 그래프 타이틀 및 레이블 설정\n",
    "fig.update_layout(\n",
    "    title='<b>행정동별 시계열 인구변화</b>',\n",
    "    xaxis_title='연도',\n",
    "    yaxis_title='인구수',\n",
    "    width=1000,\n",
    "    height=600\n",
    ")\n",
    "\n",
    "# 그래프 표시\n",
    "fig.show()"
   ]
  },
  {
   "cell_type": "code",
   "execution_count": null,
   "metadata": {},
   "outputs": [],
   "source": [
    "import plotly.graph_objs as go\n",
    "from plotly.subplots import make_subplots\n",
    "\n",
    "# Subplot figure(4x5)\n",
    "fig = make_subplots(\n",
    "    rows=3, \n",
    "    cols=6, \n",
    "    subplot_titles=[\"<b>%s</b>\" % target for target in targets],\n",
    "    vertical_spacing=0.05,  # 세로 여백\n",
    "    horizontal_spacing=0.05  # 가로 여백\n",
    ")\n",
    "\n",
    "# 17개의 타겟 값에 대해 반복하여 그래프 추가\n",
    "for i in range(17):\n",
    "    df = hjd_pop_dic[targets[i]]\n",
    "    # 각 subplot에 trace 추가\n",
    "    row = (i // 6) + 1\n",
    "    col = (i % 6) + 1\n",
    "    fig.add_trace(go.Scatter(x=df['year'], y=df['%s_총합'%targets[i]], mode='lines', name='%s'%targets[i]), row=row, col=col)\n",
    "    fig.update_xaxes(\n",
    "        showticklabels=True, \n",
    "        showgrid=False, \n",
    "        tickmode='array',\n",
    "        tickvals=['202106', '202206', '202306'],  # x축에 표시할 값\n",
    "        ticktext=['2021', '2022', '2023'],  # x축에 표시할 텍스트\n",
    "    )\n",
    "    fig.update_yaxes(\n",
    "        showticklabels=True, \n",
    "        showgrid=True,\n",
    "    )\n",
    "# 색상 업데이트\n",
    "colors =px.colors.sequential.Plasma # 컬러맵\n",
    "for i, trace in enumerate(fig.data):\n",
    "    trace.line.color = colors[i % len(colors)]\n",
    "# 레이아웃 업데이트\n",
    "fig.update_layout(height=1000, width=2200)\n",
    "\n",
    "# 그래프 출력\n",
    "fig.show()"
   ]
  },
  {
   "cell_type": "code",
   "execution_count": null,
   "metadata": {},
   "outputs": [],
   "source": [
    "# Subplot figure(4x5)\n",
    "fig = make_subplots(\n",
    "    rows=3, \n",
    "    cols=6, \n",
    "    subplot_titles=[\"<b>%s</b>\" % target for target in targets],\n",
    "    vertical_spacing=0.05,  # 세로 여백\n",
    "    horizontal_spacing=0.05  # 가로 여백\n",
    ")\n",
    "\n",
    "# 17개의 타겟 값에 대해 반복하여 그래프 추가\n",
    "for i in range(17):\n",
    "    df = hjd_pop_dic[targets[i]]\n",
    "    # 각 subplot에 trace 추가\n",
    "    row = (i // 6) + 1\n",
    "    col = (i % 6) + 1\n",
    "    fig.add_trace(go.Scatter(x=df['year'], y=df['%s_남' % targets[i]], mode='lines', name='남성', line=dict(color='blue')), row=row, col=col)\n",
    "    fig.add_trace(go.Scatter(x=df['year'], y=df['%s_여' % targets[i]], mode='lines', name='여성', line=dict(color='red')), row=row, col=col)\n",
    "    fig.update_xaxes(\n",
    "        row=row,\n",
    "        col=col,\n",
    "        showticklabels=True, \n",
    "        showgrid=False, \n",
    "        tickmode='array',\n",
    "        tickvals=['202106', '202206', '202306'],  # x축에 표시할 값\n",
    "        ticktext=['2021', '2022', '2023'],  # x축에 표시할 텍스트\n",
    "    )\n",
    "    fig.update_yaxes(\n",
    "        row=row,\n",
    "        col=col,\n",
    "        showticklabels=True, \n",
    "        showgrid=True,\n",
    "    )\n",
    "\n",
    "fig.update_layout(height=1000, width=2200)\n",
    "\n",
    "# 그래프 출력\n",
    "fig.show()\n"
   ]
  },
  {
   "attachments": {},
   "cell_type": "markdown",
   "metadata": {},
   "source": [
    "### 아산시 거주인구 필터링"
   ]
  },
  {
   "attachments": {},
   "cell_type": "markdown",
   "metadata": {},
   "source": [
    "국제연합(UN)의 기준에 따르면 전체 인구에서 65세 이상이 차지하는 비율인 고령자 인구 비율이 7% 이상이면 고령화 사회, 14% 이상이면 고령 사회, 20% 이상이면 초고령 사회로 구분된다.\n",
    "\n",
    "국제 연합 기준(UN)과 국내 국민연금 수급연령(연금 지급개시연령) 및 근로자의 법상 정년(노동관계법령상 정년(60세) 의무규정)을 고려하여 60대를 기준으로 고령화 비율을 나누었다. "
   ]
  },
  {
   "cell_type": "code",
   "execution_count": 8,
   "metadata": {},
   "outputs": [],
   "source": [
    "respop_df = pd.read_csv('SBJ_2405_001/1.아산시_거주인구(격자).csv')\n",
    "\n",
    "#아산시 grid ID 리스트 와 매핑 & respop_df 필터링\n",
    "grid_id = grid_map_df['properties.gid'].tolist() # gid는 전부 unique한 값\n",
    "grid_respop = respop_df[respop_df['gid'].isin(grid_id)]\n",
    "grid_respop = grid_respop.fillna(0)\n",
    "grid_respop = pd.concat([grid_respop.iloc[:, :2], grid_respop.iloc[:, 2:].astype(int)], axis=1)\n",
    "grid_respop['year'] = grid_respop['year'].astype(str)\n",
    "\n",
    "# 성별구분 없이 통합 및 세대별 인구수 데이터프레임으로 변환\n",
    "columns = ['gid', 'year']\n",
    "for i in range(2, len(grid_respop.columns)):\n",
    "    age = f'{grid_respop.columns[i][2:4]}대' if grid_respop.columns[i][2] != '1' else f'{grid_respop.columns[i][2:5]}대'\n",
    "    sex = '남' if grid_respop.columns[i][0] != 'm' else '여'\n",
    "    columns.append('%s_%s'%(age, sex))\n",
    "grid_respop.columns = columns\n",
    "# 인구 column & 고령인구 column & 고령인구 비율(%) column 생성\n",
    "grid_respop['인구'] = grid_respop.iloc[:, 2:].sum(axis=1)\n",
    "grid_respop =  grid_respop[grid_respop['인구'] != 0] # 거주인구가 없는 격자 필터링(제외)\n",
    "grid_respop['고령인구'] = grid_respop.iloc[:, 10:-1].sum(axis=1)\n",
    "grid_respop['고령인구_비율'] = grid_respop.iloc[:, -1] / grid_respop.iloc[:, -2]\n",
    "grid_respop = grid_respop.fillna(0) # NaN값 0으로 대체\n",
    "grid_respop['고령인구_비율'] = grid_respop['고령인구_비율'].apply(lambda x : round(x*100, 2))"
   ]
  },
  {
   "cell_type": "code",
   "execution_count": 97,
   "metadata": {},
   "outputs": [
    {
     "data": {
      "text/html": [
       "<div>\n",
       "<style scoped>\n",
       "    .dataframe tbody tr th:only-of-type {\n",
       "        vertical-align: middle;\n",
       "    }\n",
       "\n",
       "    .dataframe tbody tr th {\n",
       "        vertical-align: top;\n",
       "    }\n",
       "\n",
       "    .dataframe thead th {\n",
       "        text-align: right;\n",
       "    }\n",
       "</style>\n",
       "<table border=\"1\" class=\"dataframe\">\n",
       "  <thead>\n",
       "    <tr style=\"text-align: right;\">\n",
       "      <th></th>\n",
       "      <th>gid</th>\n",
       "      <th>year</th>\n",
       "      <th>20대_여</th>\n",
       "      <th>20대_남</th>\n",
       "      <th>30대_여</th>\n",
       "      <th>30대_남</th>\n",
       "      <th>40대_여</th>\n",
       "      <th>40대_남</th>\n",
       "      <th>50대_여</th>\n",
       "      <th>50대_남</th>\n",
       "      <th>60대_여</th>\n",
       "      <th>60대_남</th>\n",
       "      <th>70대_여</th>\n",
       "      <th>70대_남</th>\n",
       "      <th>80대_여</th>\n",
       "      <th>80대_남</th>\n",
       "      <th>90대_여</th>\n",
       "      <th>90대_남</th>\n",
       "      <th>100대_여</th>\n",
       "      <th>100대_남</th>\n",
       "      <th>인구</th>\n",
       "      <th>고령인구</th>\n",
       "      <th>고령인구_비율</th>\n",
       "    </tr>\n",
       "  </thead>\n",
       "  <tbody>\n",
       "    <tr>\n",
       "      <th>3</th>\n",
       "      <td>다바553584</td>\n",
       "      <td>2023</td>\n",
       "      <td>0</td>\n",
       "      <td>0</td>\n",
       "      <td>0</td>\n",
       "      <td>0</td>\n",
       "      <td>7</td>\n",
       "      <td>0</td>\n",
       "      <td>0</td>\n",
       "      <td>0</td>\n",
       "      <td>0</td>\n",
       "      <td>0</td>\n",
       "      <td>0</td>\n",
       "      <td>0</td>\n",
       "      <td>0</td>\n",
       "      <td>0</td>\n",
       "      <td>0</td>\n",
       "      <td>0</td>\n",
       "      <td>0</td>\n",
       "      <td>0</td>\n",
       "      <td>7</td>\n",
       "      <td>0</td>\n",
       "      <td>0.00</td>\n",
       "    </tr>\n",
       "    <tr>\n",
       "      <th>16</th>\n",
       "      <td>다바568639</td>\n",
       "      <td>2023</td>\n",
       "      <td>21</td>\n",
       "      <td>7</td>\n",
       "      <td>8</td>\n",
       "      <td>11</td>\n",
       "      <td>17</td>\n",
       "      <td>18</td>\n",
       "      <td>24</td>\n",
       "      <td>26</td>\n",
       "      <td>11</td>\n",
       "      <td>9</td>\n",
       "      <td>0</td>\n",
       "      <td>0</td>\n",
       "      <td>0</td>\n",
       "      <td>0</td>\n",
       "      <td>0</td>\n",
       "      <td>0</td>\n",
       "      <td>0</td>\n",
       "      <td>0</td>\n",
       "      <td>152</td>\n",
       "      <td>20</td>\n",
       "      <td>13.16</td>\n",
       "    </tr>\n",
       "    <tr>\n",
       "      <th>26</th>\n",
       "      <td>다바562630</td>\n",
       "      <td>2023</td>\n",
       "      <td>24</td>\n",
       "      <td>12</td>\n",
       "      <td>26</td>\n",
       "      <td>19</td>\n",
       "      <td>32</td>\n",
       "      <td>30</td>\n",
       "      <td>38</td>\n",
       "      <td>42</td>\n",
       "      <td>25</td>\n",
       "      <td>22</td>\n",
       "      <td>9</td>\n",
       "      <td>0</td>\n",
       "      <td>0</td>\n",
       "      <td>6</td>\n",
       "      <td>0</td>\n",
       "      <td>0</td>\n",
       "      <td>0</td>\n",
       "      <td>0</td>\n",
       "      <td>285</td>\n",
       "      <td>62</td>\n",
       "      <td>21.75</td>\n",
       "    </tr>\n",
       "    <tr>\n",
       "      <th>55</th>\n",
       "      <td>다바561678</td>\n",
       "      <td>2023</td>\n",
       "      <td>16</td>\n",
       "      <td>8</td>\n",
       "      <td>8</td>\n",
       "      <td>7</td>\n",
       "      <td>20</td>\n",
       "      <td>16</td>\n",
       "      <td>20</td>\n",
       "      <td>21</td>\n",
       "      <td>12</td>\n",
       "      <td>9</td>\n",
       "      <td>0</td>\n",
       "      <td>11</td>\n",
       "      <td>0</td>\n",
       "      <td>0</td>\n",
       "      <td>0</td>\n",
       "      <td>0</td>\n",
       "      <td>0</td>\n",
       "      <td>0</td>\n",
       "      <td>148</td>\n",
       "      <td>32</td>\n",
       "      <td>21.62</td>\n",
       "    </tr>\n",
       "    <tr>\n",
       "      <th>68</th>\n",
       "      <td>다바554647</td>\n",
       "      <td>2023</td>\n",
       "      <td>0</td>\n",
       "      <td>0</td>\n",
       "      <td>6</td>\n",
       "      <td>0</td>\n",
       "      <td>0</td>\n",
       "      <td>0</td>\n",
       "      <td>9</td>\n",
       "      <td>8</td>\n",
       "      <td>17</td>\n",
       "      <td>17</td>\n",
       "      <td>10</td>\n",
       "      <td>0</td>\n",
       "      <td>0</td>\n",
       "      <td>10</td>\n",
       "      <td>0</td>\n",
       "      <td>0</td>\n",
       "      <td>0</td>\n",
       "      <td>0</td>\n",
       "      <td>77</td>\n",
       "      <td>54</td>\n",
       "      <td>70.13</td>\n",
       "    </tr>\n",
       "    <tr>\n",
       "      <th>...</th>\n",
       "      <td>...</td>\n",
       "      <td>...</td>\n",
       "      <td>...</td>\n",
       "      <td>...</td>\n",
       "      <td>...</td>\n",
       "      <td>...</td>\n",
       "      <td>...</td>\n",
       "      <td>...</td>\n",
       "      <td>...</td>\n",
       "      <td>...</td>\n",
       "      <td>...</td>\n",
       "      <td>...</td>\n",
       "      <td>...</td>\n",
       "      <td>...</td>\n",
       "      <td>...</td>\n",
       "      <td>...</td>\n",
       "      <td>...</td>\n",
       "      <td>...</td>\n",
       "      <td>...</td>\n",
       "      <td>...</td>\n",
       "      <td>...</td>\n",
       "      <td>...</td>\n",
       "      <td>...</td>\n",
       "    </tr>\n",
       "    <tr>\n",
       "      <th>136572</th>\n",
       "      <td>다바559657</td>\n",
       "      <td>2021</td>\n",
       "      <td>8</td>\n",
       "      <td>9</td>\n",
       "      <td>8</td>\n",
       "      <td>8</td>\n",
       "      <td>7</td>\n",
       "      <td>7</td>\n",
       "      <td>9</td>\n",
       "      <td>9</td>\n",
       "      <td>21</td>\n",
       "      <td>18</td>\n",
       "      <td>0</td>\n",
       "      <td>9</td>\n",
       "      <td>0</td>\n",
       "      <td>0</td>\n",
       "      <td>0</td>\n",
       "      <td>0</td>\n",
       "      <td>0</td>\n",
       "      <td>0</td>\n",
       "      <td>113</td>\n",
       "      <td>48</td>\n",
       "      <td>42.48</td>\n",
       "    </tr>\n",
       "    <tr>\n",
       "      <th>138104</th>\n",
       "      <td>다바631647</td>\n",
       "      <td>2021</td>\n",
       "      <td>10</td>\n",
       "      <td>15</td>\n",
       "      <td>13</td>\n",
       "      <td>0</td>\n",
       "      <td>0</td>\n",
       "      <td>0</td>\n",
       "      <td>0</td>\n",
       "      <td>0</td>\n",
       "      <td>0</td>\n",
       "      <td>0</td>\n",
       "      <td>0</td>\n",
       "      <td>0</td>\n",
       "      <td>0</td>\n",
       "      <td>0</td>\n",
       "      <td>0</td>\n",
       "      <td>0</td>\n",
       "      <td>0</td>\n",
       "      <td>0</td>\n",
       "      <td>38</td>\n",
       "      <td>0</td>\n",
       "      <td>0.00</td>\n",
       "    </tr>\n",
       "    <tr>\n",
       "      <th>141887</th>\n",
       "      <td>다바630647</td>\n",
       "      <td>2021</td>\n",
       "      <td>52</td>\n",
       "      <td>95</td>\n",
       "      <td>65</td>\n",
       "      <td>57</td>\n",
       "      <td>0</td>\n",
       "      <td>0</td>\n",
       "      <td>0</td>\n",
       "      <td>0</td>\n",
       "      <td>0</td>\n",
       "      <td>0</td>\n",
       "      <td>0</td>\n",
       "      <td>0</td>\n",
       "      <td>0</td>\n",
       "      <td>0</td>\n",
       "      <td>0</td>\n",
       "      <td>0</td>\n",
       "      <td>0</td>\n",
       "      <td>0</td>\n",
       "      <td>269</td>\n",
       "      <td>0</td>\n",
       "      <td>0.00</td>\n",
       "    </tr>\n",
       "    <tr>\n",
       "      <th>155079</th>\n",
       "      <td>다바649644</td>\n",
       "      <td>2021</td>\n",
       "      <td>0</td>\n",
       "      <td>0</td>\n",
       "      <td>0</td>\n",
       "      <td>0</td>\n",
       "      <td>0</td>\n",
       "      <td>0</td>\n",
       "      <td>0</td>\n",
       "      <td>0</td>\n",
       "      <td>6</td>\n",
       "      <td>0</td>\n",
       "      <td>0</td>\n",
       "      <td>0</td>\n",
       "      <td>0</td>\n",
       "      <td>0</td>\n",
       "      <td>0</td>\n",
       "      <td>0</td>\n",
       "      <td>0</td>\n",
       "      <td>0</td>\n",
       "      <td>6</td>\n",
       "      <td>6</td>\n",
       "      <td>100.00</td>\n",
       "    </tr>\n",
       "    <tr>\n",
       "      <th>161849</th>\n",
       "      <td>다바648644</td>\n",
       "      <td>2021</td>\n",
       "      <td>0</td>\n",
       "      <td>0</td>\n",
       "      <td>0</td>\n",
       "      <td>0</td>\n",
       "      <td>0</td>\n",
       "      <td>0</td>\n",
       "      <td>0</td>\n",
       "      <td>0</td>\n",
       "      <td>6</td>\n",
       "      <td>0</td>\n",
       "      <td>0</td>\n",
       "      <td>0</td>\n",
       "      <td>0</td>\n",
       "      <td>0</td>\n",
       "      <td>0</td>\n",
       "      <td>0</td>\n",
       "      <td>0</td>\n",
       "      <td>0</td>\n",
       "      <td>6</td>\n",
       "      <td>6</td>\n",
       "      <td>100.00</td>\n",
       "    </tr>\n",
       "  </tbody>\n",
       "</table>\n",
       "<p>3818 rows × 23 columns</p>\n",
       "</div>"
      ],
      "text/plain": [
       "             gid  year  20대_여  20대_남  30대_여  30대_남  40대_여  40대_남  50대_여  \\\n",
       "3       다바553584  2023      0      0      0      0      7      0      0   \n",
       "16      다바568639  2023     21      7      8     11     17     18     24   \n",
       "26      다바562630  2023     24     12     26     19     32     30     38   \n",
       "55      다바561678  2023     16      8      8      7     20     16     20   \n",
       "68      다바554647  2023      0      0      6      0      0      0      9   \n",
       "...          ...   ...    ...    ...    ...    ...    ...    ...    ...   \n",
       "136572  다바559657  2021      8      9      8      8      7      7      9   \n",
       "138104  다바631647  2021     10     15     13      0      0      0      0   \n",
       "141887  다바630647  2021     52     95     65     57      0      0      0   \n",
       "155079  다바649644  2021      0      0      0      0      0      0      0   \n",
       "161849  다바648644  2021      0      0      0      0      0      0      0   \n",
       "\n",
       "        50대_남  60대_여  60대_남  70대_여  70대_남  80대_여  80대_남  90대_여  90대_남  100대_여  \\\n",
       "3           0      0      0      0      0      0      0      0      0       0   \n",
       "16         26     11      9      0      0      0      0      0      0       0   \n",
       "26         42     25     22      9      0      0      6      0      0       0   \n",
       "55         21     12      9      0     11      0      0      0      0       0   \n",
       "68          8     17     17     10      0      0     10      0      0       0   \n",
       "...       ...    ...    ...    ...    ...    ...    ...    ...    ...     ...   \n",
       "136572      9     21     18      0      9      0      0      0      0       0   \n",
       "138104      0      0      0      0      0      0      0      0      0       0   \n",
       "141887      0      0      0      0      0      0      0      0      0       0   \n",
       "155079      0      6      0      0      0      0      0      0      0       0   \n",
       "161849      0      6      0      0      0      0      0      0      0       0   \n",
       "\n",
       "        100대_남   인구  고령인구  고령인구_비율  \n",
       "3            0    7     0     0.00  \n",
       "16           0  152    20    13.16  \n",
       "26           0  285    62    21.75  \n",
       "55           0  148    32    21.62  \n",
       "68           0   77    54    70.13  \n",
       "...        ...  ...   ...      ...  \n",
       "136572       0  113    48    42.48  \n",
       "138104       0   38     0     0.00  \n",
       "141887       0  269     0     0.00  \n",
       "155079       0    6     6   100.00  \n",
       "161849       0    6     6   100.00  \n",
       "\n",
       "[3818 rows x 23 columns]"
      ]
     },
     "execution_count": 97,
     "metadata": {},
     "output_type": "execute_result"
    }
   ],
   "source": [
    "grid_respop"
   ]
  },
  {
   "attachments": {},
   "cell_type": "markdown",
   "metadata": {},
   "source": [
    "#### 아산시 거주인구 연도별 변화(line + marker graph)"
   ]
  },
  {
   "cell_type": "code",
   "execution_count": 9,
   "metadata": {},
   "outputs": [
    {
     "data": {
      "text/html": [
       "<div>\n",
       "<style scoped>\n",
       "    .dataframe tbody tr th:only-of-type {\n",
       "        vertical-align: middle;\n",
       "    }\n",
       "\n",
       "    .dataframe tbody tr th {\n",
       "        vertical-align: top;\n",
       "    }\n",
       "\n",
       "    .dataframe thead th {\n",
       "        text-align: right;\n",
       "    }\n",
       "</style>\n",
       "<table border=\"1\" class=\"dataframe\">\n",
       "  <thead>\n",
       "    <tr style=\"text-align: right;\">\n",
       "      <th></th>\n",
       "      <th>연도</th>\n",
       "      <th>종합인구</th>\n",
       "      <th>고령인구</th>\n",
       "      <th>비고령인구</th>\n",
       "      <th>고령인구 비율</th>\n",
       "      <th>비고령인구 비율</th>\n",
       "    </tr>\n",
       "  </thead>\n",
       "  <tbody>\n",
       "    <tr>\n",
       "      <th>0</th>\n",
       "      <td>2021</td>\n",
       "      <td>188186</td>\n",
       "      <td>33452</td>\n",
       "      <td>154734</td>\n",
       "      <td>17.78</td>\n",
       "      <td>82.22</td>\n",
       "    </tr>\n",
       "    <tr>\n",
       "      <th>1</th>\n",
       "      <td>2022</td>\n",
       "      <td>185931</td>\n",
       "      <td>35347</td>\n",
       "      <td>150584</td>\n",
       "      <td>19.01</td>\n",
       "      <td>80.99</td>\n",
       "    </tr>\n",
       "    <tr>\n",
       "      <th>2</th>\n",
       "      <td>2023</td>\n",
       "      <td>182558</td>\n",
       "      <td>37357</td>\n",
       "      <td>145201</td>\n",
       "      <td>20.46</td>\n",
       "      <td>79.54</td>\n",
       "    </tr>\n",
       "  </tbody>\n",
       "</table>\n",
       "</div>"
      ],
      "text/plain": [
       "     연도    종합인구   고령인구   비고령인구  고령인구 비율  비고령인구 비율\n",
       "0  2021  188186  33452  154734    17.78     82.22\n",
       "1  2022  185931  35347  150584    19.01     80.99\n",
       "2  2023  182558  37357  145201    20.46     79.54"
      ]
     },
     "execution_count": 9,
     "metadata": {},
     "output_type": "execute_result"
    }
   ],
   "source": [
    "year_lst = range(2021, 2024)\n",
    "year_pop = [] # 인구수 종합\n",
    "elder_pop = [] # 고령인구 종합\n",
    "elder_rate = [] # 고령인구 비율\n",
    "non_elder_pop = [] # 비고령인구 종합\n",
    "non_elder_rate = [] # 비고령인구 비율\n",
    "for year in year_lst:\n",
    "    # 해당 year의 인구수 종합\n",
    "    year_pop.append(grid_respop[grid_respop['year'] == str(year)]['인구'].sum())\n",
    "    # 해당 year의 고령인구 종합\n",
    "    elder_pop.append(grid_respop[grid_respop['year'] == str(year)]['고령인구'].sum())\n",
    "    # 해당 year의 고령인구 비율\n",
    "    rate = grid_respop[grid_respop['year'] == str(year)]['고령인구'].sum() / grid_respop[grid_respop['year'] == str(year)]['인구'].sum()\n",
    "    elder_rate.append(round(rate * 100, 2))\n",
    "    # 해당 year의 비고령인구 종합\n",
    "    non_elder = grid_respop[grid_respop['year'] == str(year)]['인구'].sum() - grid_respop[grid_respop['year'] == str(year)]['고령인구'].sum()\n",
    "    non_elder_pop.append(non_elder)\n",
    "    # 해당 year의 고령인구 비율\n",
    "    rate = non_elder / grid_respop[grid_respop['year'] == str(year)]['인구'].sum()\n",
    "    non_elder_rate.append(round(rate * 100, 2))\n",
    "\n",
    "pop_df = pd.DataFrame({'연도':year_lst, '종합인구':year_pop,'고령인구':elder_pop, '비고령인구':non_elder_pop, '고령인구 비율':elder_rate, '비고령인구 비율':non_elder_rate})\n",
    "pop_df"
   ]
  },
  {
   "cell_type": "code",
   "execution_count": null,
   "metadata": {},
   "outputs": [],
   "source": [
    "fig = px.line(pop_df, x='연도', y='종합인구', labels={'x':'연도', 'y':'인구수'}, title='아산시 연도별 거주인구 추이')\n",
    "fig.update_traces(mode='lines+markers')\n",
    "\n",
    "# 각 마커 위에 주석을 추가합니다.\n",
    "for i in range(len(year_lst)):\n",
    "    fig.add_annotation(\n",
    "        x=pop_df['연도'][i],\n",
    "        y=pop_df['종합인구'][i] + 400,\n",
    "        text=f\"{pop_df['종합인구'][i]}명\",\n",
    "        showarrow=False,\n",
    "    )\n",
    "fig.update_xaxes(\n",
    "        showticklabels=True, \n",
    "        showgrid=False, \n",
    "        tickmode='array',\n",
    "        range=[2020.5, 2023.5],\n",
    "        tickvals=[2021, 2022, 2023],  # x축에 표시할 값\n",
    "        ticktext=['2021', '2022', '2023'],  # x축에 표시할 텍스트\n",
    "    )\n",
    "fig.update_yaxes(\n",
    "    showticklabels=True, \n",
    "    showgrid=True,\n",
    "    )\n",
    "fig.show()"
   ]
  },
  {
   "cell_type": "code",
   "execution_count": null,
   "metadata": {},
   "outputs": [],
   "source": [
    "fig = px.line(pop_df, x='연도', y=['고령인구', '비고령인구'], labels={'x':'연도', 'y':'인구수'}, title='아산시 연도별 고령거주인구 vs 비고령거주인구 변화')\n",
    "fig.update_traces(mode='lines+markers')\n",
    "\n",
    "# 각 마커 위에 주석을 추가\n",
    "for i in range(len(year_lst)):\n",
    "    fig.add_annotation(\n",
    "        x=pop_df['연도'][i],\n",
    "        y=pop_df['고령인구'][i] + 7000,\n",
    "        text=f\"{pop_df['고령인구'][i]}명\",\n",
    "        showarrow=False,\n",
    "    )\n",
    "\n",
    "for i in range(len(year_lst)):\n",
    "    fig.add_annotation(\n",
    "        x=pop_df['연도'][i],\n",
    "        y=pop_df['비고령인구'][i] + 7000,\n",
    "        text=f\"{pop_df['비고령인구'][i]}명\",\n",
    "        showarrow=False,\n",
    "    )\n",
    "\n",
    "fig.update_xaxes(\n",
    "        showticklabels=True, \n",
    "        showgrid=False, \n",
    "        tickmode='array',\n",
    "        range=[2020.5, 2023.5],\n",
    "        tickvals=[2021, 2022, 2023],  # x축에 표시할 값\n",
    "        ticktext=['2021', '2022', '2023'],  # x축에 표시할 텍스트\n",
    "    )\n",
    "fig.update_yaxes(\n",
    "    showticklabels=True, \n",
    "    showgrid=True,\n",
    "    )\n",
    "# 범례 위치 설정 및 범례 이름 변경\n",
    "fig.update_layout(\n",
    "    legend=dict(x=1, y=1),\n",
    "    legend_title_text='구분',\n",
    ")\n",
    "fig.show()"
   ]
  },
  {
   "cell_type": "code",
   "execution_count": 100,
   "metadata": {},
   "outputs": [
    {
     "data": {
      "application/vnd.plotly.v1+json": {
       "config": {
        "plotlyServerURL": "https://plot.ly"
       },
       "data": [
        {
         "hovertemplate": "variable=고령인구 비율<br>연도=%{x}<br>value=%{y}<extra></extra>",
         "legendgroup": "고령인구 비율",
         "line": {
          "color": "#636efa",
          "dash": "solid"
         },
         "marker": {
          "symbol": "circle"
         },
         "mode": "lines+markers",
         "name": "고령인구 비율",
         "orientation": "v",
         "showlegend": true,
         "type": "scatter",
         "x": [
          2021,
          2022,
          2023
         ],
         "xaxis": "x",
         "y": [
          17.78,
          19.01,
          20.46
         ],
         "yaxis": "y"
        },
        {
         "hovertemplate": "variable=비고령인구 비율<br>연도=%{x}<br>value=%{y}<extra></extra>",
         "legendgroup": "비고령인구 비율",
         "line": {
          "color": "#EF553B",
          "dash": "solid"
         },
         "marker": {
          "symbol": "circle"
         },
         "mode": "lines+markers",
         "name": "비고령인구 비율",
         "orientation": "v",
         "showlegend": true,
         "type": "scatter",
         "x": [
          2021,
          2022,
          2023
         ],
         "xaxis": "x",
         "y": [
          82.22,
          80.99,
          79.54
         ],
         "yaxis": "y"
        }
       ],
       "layout": {
        "annotations": [
         {
          "showarrow": false,
          "text": "17.78%",
          "x": 2021,
          "y": 21.78
         },
         {
          "showarrow": false,
          "text": "19.01%",
          "x": 2022,
          "y": 23.01
         },
         {
          "showarrow": false,
          "text": "20.46%",
          "x": 2023,
          "y": 24.46
         },
         {
          "showarrow": false,
          "text": "82.22%",
          "x": 2021,
          "y": 86.22
         },
         {
          "showarrow": false,
          "text": "80.99%",
          "x": 2022,
          "y": 84.99
         },
         {
          "showarrow": false,
          "text": "79.54%",
          "x": 2023,
          "y": 83.54
         }
        ],
        "legend": {
         "title": {
          "text": "구분"
         },
         "tracegroupgap": 0,
         "x": 1,
         "y": 1
        },
        "template": {
         "data": {
          "bar": [
           {
            "error_x": {
             "color": "#2a3f5f"
            },
            "error_y": {
             "color": "#2a3f5f"
            },
            "marker": {
             "line": {
              "color": "#E5ECF6",
              "width": 0.5
             },
             "pattern": {
              "fillmode": "overlay",
              "size": 10,
              "solidity": 0.2
             }
            },
            "type": "bar"
           }
          ],
          "barpolar": [
           {
            "marker": {
             "line": {
              "color": "#E5ECF6",
              "width": 0.5
             },
             "pattern": {
              "fillmode": "overlay",
              "size": 10,
              "solidity": 0.2
             }
            },
            "type": "barpolar"
           }
          ],
          "carpet": [
           {
            "aaxis": {
             "endlinecolor": "#2a3f5f",
             "gridcolor": "white",
             "linecolor": "white",
             "minorgridcolor": "white",
             "startlinecolor": "#2a3f5f"
            },
            "baxis": {
             "endlinecolor": "#2a3f5f",
             "gridcolor": "white",
             "linecolor": "white",
             "minorgridcolor": "white",
             "startlinecolor": "#2a3f5f"
            },
            "type": "carpet"
           }
          ],
          "choropleth": [
           {
            "colorbar": {
             "outlinewidth": 0,
             "ticks": ""
            },
            "type": "choropleth"
           }
          ],
          "contour": [
           {
            "colorbar": {
             "outlinewidth": 0,
             "ticks": ""
            },
            "colorscale": [
             [
              0,
              "#0d0887"
             ],
             [
              0.1111111111111111,
              "#46039f"
             ],
             [
              0.2222222222222222,
              "#7201a8"
             ],
             [
              0.3333333333333333,
              "#9c179e"
             ],
             [
              0.4444444444444444,
              "#bd3786"
             ],
             [
              0.5555555555555556,
              "#d8576b"
             ],
             [
              0.6666666666666666,
              "#ed7953"
             ],
             [
              0.7777777777777778,
              "#fb9f3a"
             ],
             [
              0.8888888888888888,
              "#fdca26"
             ],
             [
              1,
              "#f0f921"
             ]
            ],
            "type": "contour"
           }
          ],
          "contourcarpet": [
           {
            "colorbar": {
             "outlinewidth": 0,
             "ticks": ""
            },
            "type": "contourcarpet"
           }
          ],
          "heatmap": [
           {
            "colorbar": {
             "outlinewidth": 0,
             "ticks": ""
            },
            "colorscale": [
             [
              0,
              "#0d0887"
             ],
             [
              0.1111111111111111,
              "#46039f"
             ],
             [
              0.2222222222222222,
              "#7201a8"
             ],
             [
              0.3333333333333333,
              "#9c179e"
             ],
             [
              0.4444444444444444,
              "#bd3786"
             ],
             [
              0.5555555555555556,
              "#d8576b"
             ],
             [
              0.6666666666666666,
              "#ed7953"
             ],
             [
              0.7777777777777778,
              "#fb9f3a"
             ],
             [
              0.8888888888888888,
              "#fdca26"
             ],
             [
              1,
              "#f0f921"
             ]
            ],
            "type": "heatmap"
           }
          ],
          "heatmapgl": [
           {
            "colorbar": {
             "outlinewidth": 0,
             "ticks": ""
            },
            "colorscale": [
             [
              0,
              "#0d0887"
             ],
             [
              0.1111111111111111,
              "#46039f"
             ],
             [
              0.2222222222222222,
              "#7201a8"
             ],
             [
              0.3333333333333333,
              "#9c179e"
             ],
             [
              0.4444444444444444,
              "#bd3786"
             ],
             [
              0.5555555555555556,
              "#d8576b"
             ],
             [
              0.6666666666666666,
              "#ed7953"
             ],
             [
              0.7777777777777778,
              "#fb9f3a"
             ],
             [
              0.8888888888888888,
              "#fdca26"
             ],
             [
              1,
              "#f0f921"
             ]
            ],
            "type": "heatmapgl"
           }
          ],
          "histogram": [
           {
            "marker": {
             "pattern": {
              "fillmode": "overlay",
              "size": 10,
              "solidity": 0.2
             }
            },
            "type": "histogram"
           }
          ],
          "histogram2d": [
           {
            "colorbar": {
             "outlinewidth": 0,
             "ticks": ""
            },
            "colorscale": [
             [
              0,
              "#0d0887"
             ],
             [
              0.1111111111111111,
              "#46039f"
             ],
             [
              0.2222222222222222,
              "#7201a8"
             ],
             [
              0.3333333333333333,
              "#9c179e"
             ],
             [
              0.4444444444444444,
              "#bd3786"
             ],
             [
              0.5555555555555556,
              "#d8576b"
             ],
             [
              0.6666666666666666,
              "#ed7953"
             ],
             [
              0.7777777777777778,
              "#fb9f3a"
             ],
             [
              0.8888888888888888,
              "#fdca26"
             ],
             [
              1,
              "#f0f921"
             ]
            ],
            "type": "histogram2d"
           }
          ],
          "histogram2dcontour": [
           {
            "colorbar": {
             "outlinewidth": 0,
             "ticks": ""
            },
            "colorscale": [
             [
              0,
              "#0d0887"
             ],
             [
              0.1111111111111111,
              "#46039f"
             ],
             [
              0.2222222222222222,
              "#7201a8"
             ],
             [
              0.3333333333333333,
              "#9c179e"
             ],
             [
              0.4444444444444444,
              "#bd3786"
             ],
             [
              0.5555555555555556,
              "#d8576b"
             ],
             [
              0.6666666666666666,
              "#ed7953"
             ],
             [
              0.7777777777777778,
              "#fb9f3a"
             ],
             [
              0.8888888888888888,
              "#fdca26"
             ],
             [
              1,
              "#f0f921"
             ]
            ],
            "type": "histogram2dcontour"
           }
          ],
          "mesh3d": [
           {
            "colorbar": {
             "outlinewidth": 0,
             "ticks": ""
            },
            "type": "mesh3d"
           }
          ],
          "parcoords": [
           {
            "line": {
             "colorbar": {
              "outlinewidth": 0,
              "ticks": ""
             }
            },
            "type": "parcoords"
           }
          ],
          "pie": [
           {
            "automargin": true,
            "type": "pie"
           }
          ],
          "scatter": [
           {
            "fillpattern": {
             "fillmode": "overlay",
             "size": 10,
             "solidity": 0.2
            },
            "type": "scatter"
           }
          ],
          "scatter3d": [
           {
            "line": {
             "colorbar": {
              "outlinewidth": 0,
              "ticks": ""
             }
            },
            "marker": {
             "colorbar": {
              "outlinewidth": 0,
              "ticks": ""
             }
            },
            "type": "scatter3d"
           }
          ],
          "scattercarpet": [
           {
            "marker": {
             "colorbar": {
              "outlinewidth": 0,
              "ticks": ""
             }
            },
            "type": "scattercarpet"
           }
          ],
          "scattergeo": [
           {
            "marker": {
             "colorbar": {
              "outlinewidth": 0,
              "ticks": ""
             }
            },
            "type": "scattergeo"
           }
          ],
          "scattergl": [
           {
            "marker": {
             "colorbar": {
              "outlinewidth": 0,
              "ticks": ""
             }
            },
            "type": "scattergl"
           }
          ],
          "scattermapbox": [
           {
            "marker": {
             "colorbar": {
              "outlinewidth": 0,
              "ticks": ""
             }
            },
            "type": "scattermapbox"
           }
          ],
          "scatterpolar": [
           {
            "marker": {
             "colorbar": {
              "outlinewidth": 0,
              "ticks": ""
             }
            },
            "type": "scatterpolar"
           }
          ],
          "scatterpolargl": [
           {
            "marker": {
             "colorbar": {
              "outlinewidth": 0,
              "ticks": ""
             }
            },
            "type": "scatterpolargl"
           }
          ],
          "scatterternary": [
           {
            "marker": {
             "colorbar": {
              "outlinewidth": 0,
              "ticks": ""
             }
            },
            "type": "scatterternary"
           }
          ],
          "surface": [
           {
            "colorbar": {
             "outlinewidth": 0,
             "ticks": ""
            },
            "colorscale": [
             [
              0,
              "#0d0887"
             ],
             [
              0.1111111111111111,
              "#46039f"
             ],
             [
              0.2222222222222222,
              "#7201a8"
             ],
             [
              0.3333333333333333,
              "#9c179e"
             ],
             [
              0.4444444444444444,
              "#bd3786"
             ],
             [
              0.5555555555555556,
              "#d8576b"
             ],
             [
              0.6666666666666666,
              "#ed7953"
             ],
             [
              0.7777777777777778,
              "#fb9f3a"
             ],
             [
              0.8888888888888888,
              "#fdca26"
             ],
             [
              1,
              "#f0f921"
             ]
            ],
            "type": "surface"
           }
          ],
          "table": [
           {
            "cells": {
             "fill": {
              "color": "#EBF0F8"
             },
             "line": {
              "color": "white"
             }
            },
            "header": {
             "fill": {
              "color": "#C8D4E3"
             },
             "line": {
              "color": "white"
             }
            },
            "type": "table"
           }
          ]
         },
         "layout": {
          "annotationdefaults": {
           "arrowcolor": "#2a3f5f",
           "arrowhead": 0,
           "arrowwidth": 1
          },
          "autotypenumbers": "strict",
          "coloraxis": {
           "colorbar": {
            "outlinewidth": 0,
            "ticks": ""
           }
          },
          "colorscale": {
           "diverging": [
            [
             0,
             "#8e0152"
            ],
            [
             0.1,
             "#c51b7d"
            ],
            [
             0.2,
             "#de77ae"
            ],
            [
             0.3,
             "#f1b6da"
            ],
            [
             0.4,
             "#fde0ef"
            ],
            [
             0.5,
             "#f7f7f7"
            ],
            [
             0.6,
             "#e6f5d0"
            ],
            [
             0.7,
             "#b8e186"
            ],
            [
             0.8,
             "#7fbc41"
            ],
            [
             0.9,
             "#4d9221"
            ],
            [
             1,
             "#276419"
            ]
           ],
           "sequential": [
            [
             0,
             "#0d0887"
            ],
            [
             0.1111111111111111,
             "#46039f"
            ],
            [
             0.2222222222222222,
             "#7201a8"
            ],
            [
             0.3333333333333333,
             "#9c179e"
            ],
            [
             0.4444444444444444,
             "#bd3786"
            ],
            [
             0.5555555555555556,
             "#d8576b"
            ],
            [
             0.6666666666666666,
             "#ed7953"
            ],
            [
             0.7777777777777778,
             "#fb9f3a"
            ],
            [
             0.8888888888888888,
             "#fdca26"
            ],
            [
             1,
             "#f0f921"
            ]
           ],
           "sequentialminus": [
            [
             0,
             "#0d0887"
            ],
            [
             0.1111111111111111,
             "#46039f"
            ],
            [
             0.2222222222222222,
             "#7201a8"
            ],
            [
             0.3333333333333333,
             "#9c179e"
            ],
            [
             0.4444444444444444,
             "#bd3786"
            ],
            [
             0.5555555555555556,
             "#d8576b"
            ],
            [
             0.6666666666666666,
             "#ed7953"
            ],
            [
             0.7777777777777778,
             "#fb9f3a"
            ],
            [
             0.8888888888888888,
             "#fdca26"
            ],
            [
             1,
             "#f0f921"
            ]
           ]
          },
          "colorway": [
           "#636efa",
           "#EF553B",
           "#00cc96",
           "#ab63fa",
           "#FFA15A",
           "#19d3f3",
           "#FF6692",
           "#B6E880",
           "#FF97FF",
           "#FECB52"
          ],
          "font": {
           "color": "#2a3f5f"
          },
          "geo": {
           "bgcolor": "white",
           "lakecolor": "white",
           "landcolor": "#E5ECF6",
           "showlakes": true,
           "showland": true,
           "subunitcolor": "white"
          },
          "hoverlabel": {
           "align": "left"
          },
          "hovermode": "closest",
          "mapbox": {
           "style": "light"
          },
          "paper_bgcolor": "white",
          "plot_bgcolor": "#E5ECF6",
          "polar": {
           "angularaxis": {
            "gridcolor": "white",
            "linecolor": "white",
            "ticks": ""
           },
           "bgcolor": "#E5ECF6",
           "radialaxis": {
            "gridcolor": "white",
            "linecolor": "white",
            "ticks": ""
           }
          },
          "scene": {
           "xaxis": {
            "backgroundcolor": "#E5ECF6",
            "gridcolor": "white",
            "gridwidth": 2,
            "linecolor": "white",
            "showbackground": true,
            "ticks": "",
            "zerolinecolor": "white"
           },
           "yaxis": {
            "backgroundcolor": "#E5ECF6",
            "gridcolor": "white",
            "gridwidth": 2,
            "linecolor": "white",
            "showbackground": true,
            "ticks": "",
            "zerolinecolor": "white"
           },
           "zaxis": {
            "backgroundcolor": "#E5ECF6",
            "gridcolor": "white",
            "gridwidth": 2,
            "linecolor": "white",
            "showbackground": true,
            "ticks": "",
            "zerolinecolor": "white"
           }
          },
          "shapedefaults": {
           "line": {
            "color": "#2a3f5f"
           }
          },
          "ternary": {
           "aaxis": {
            "gridcolor": "white",
            "linecolor": "white",
            "ticks": ""
           },
           "baxis": {
            "gridcolor": "white",
            "linecolor": "white",
            "ticks": ""
           },
           "bgcolor": "#E5ECF6",
           "caxis": {
            "gridcolor": "white",
            "linecolor": "white",
            "ticks": ""
           }
          },
          "title": {
           "x": 0.05
          },
          "xaxis": {
           "automargin": true,
           "gridcolor": "white",
           "linecolor": "white",
           "ticks": "",
           "title": {
            "standoff": 15
           },
           "zerolinecolor": "white",
           "zerolinewidth": 2
          },
          "yaxis": {
           "automargin": true,
           "gridcolor": "white",
           "linecolor": "white",
           "ticks": "",
           "title": {
            "standoff": 15
           },
           "zerolinecolor": "white",
           "zerolinewidth": 2
          }
         }
        },
        "title": {
         "text": "연도별 원도심 구역 고령인구 비율 변화"
        },
        "xaxis": {
         "anchor": "y",
         "domain": [
          0,
          1
         ],
         "range": [
          2020.5,
          2023.5
         ],
         "showgrid": false,
         "showticklabels": true,
         "tickmode": "array",
         "ticktext": [
          "2021",
          "2022",
          "2023"
         ],
         "tickvals": [
          2021,
          2022,
          2023
         ],
         "title": {
          "text": "연도"
         }
        },
        "yaxis": {
         "anchor": "x",
         "domain": [
          0,
          1
         ],
         "showgrid": true,
         "showticklabels": true,
         "title": {
          "text": "value"
         }
        }
       }
      }
     },
     "metadata": {},
     "output_type": "display_data"
    }
   ],
   "source": [
    "fig = px.line(pop_df, x='연도', y=['고령인구 비율', '비고령인구 비율'], labels={'x':'연도', 'y':'인구비율(%)'}, title='연도별 원도심 구역 고령인구 비율 변화')\n",
    "fig.update_traces(mode='lines+markers')\n",
    "\n",
    "# 각 마커 위에 주석을 추가\n",
    "for i in range(len(year_lst)):\n",
    "    fig.add_annotation(\n",
    "        x=pop_df['연도'][i],\n",
    "        y=pop_df['고령인구 비율'][i] + 4,\n",
    "        text=f\"{pop_df['고령인구 비율'][i]}%\",\n",
    "        showarrow=False,\n",
    "    )\n",
    "\n",
    "for i in range(len(year_lst)):\n",
    "    fig.add_annotation(\n",
    "        x=pop_df['연도'][i],\n",
    "        y=pop_df['비고령인구 비율'][i] + 4,\n",
    "        text=f\"{pop_df['비고령인구 비율'][i]}%\",\n",
    "        showarrow=False,\n",
    "    )\n",
    "\n",
    "fig.update_xaxes(\n",
    "        showticklabels=True, \n",
    "        showgrid=False, \n",
    "        tickmode='array',\n",
    "        range=[2020.5, 2023.5],\n",
    "        tickvals=[2021, 2022, 2023],  # x축에 표시할 값\n",
    "        ticktext=['2021', '2022', '2023'],  # x축에 표시할 텍스트\n",
    "    )\n",
    "fig.update_yaxes(\n",
    "    showticklabels=True, \n",
    "    showgrid=True,\n",
    "    )\n",
    "# 범례 위치 설정 및 범례 이름 변경\n",
    "fig.update_layout(\n",
    "    legend=dict(x=1, y=1),\n",
    "    legend_title_text='구분',\n",
    ")\n",
    "fig.show()"
   ]
  },
  {
   "cell_type": "markdown",
   "metadata": {},
   "source": [
    "#### 아산시 거주인구 시각화(격자매핑)"
   ]
  },
  {
   "cell_type": "code",
   "execution_count": 10,
   "metadata": {},
   "outputs": [],
   "source": [
    "# 격자 ID와 격자 폴리곤 각각을 매핑한 딕셔너리 생성\n",
    "map_dic = {}\n",
    "for _, row in grid_map_df.iterrows():\n",
    "    map_dic[row['properties.gid']] = row['geometry']\n",
    "\n",
    "# 생성된 map_dic에 filtered_respop의 gid를 매핑하여 'geometry' column 생성\n",
    "geometry_lst = []\n",
    "for _, row in grid_respop.iterrows():\n",
    "    geometry_lst.append(map_dic[row['gid']])\n",
    "grid_respop['geometry'] = geometry_lst"
   ]
  },
  {
   "cell_type": "code",
   "execution_count": null,
   "metadata": {},
   "outputs": [],
   "source": [
    "# color 컬럼 생성 및 조건에 따라 값 설정\n",
    "def get_color(population, q75, q50, q25):\n",
    "    if population > q75:\n",
    "        return 'red'\n",
    "    elif population > q50:\n",
    "        return 'orange'\n",
    "    elif population > q25:\n",
    "        return 'yellow'\n",
    "    else:\n",
    "        return 'green'\n",
    "\n",
    "# 범례 생성\n",
    "legend_html = \"\"\"\n",
    "     <div style=\"position: fixed; \n",
    "     bottom: 50px; left: 50px; width: 350px; height: 130px; \n",
    "     border:2px solid grey; z-index:9999; font-size:14px;\n",
    "     background-color: rgba(255, 255, 255, 1);\n",
    "     \"> &nbsp; 거주인구 범례 <br>\n",
    "     &nbsp; <i style=\"background:red\">&nbsp;</i>&nbsp; 거주인구 상위 25% <br>\n",
    "     &nbsp; <i style=\"background:orange\">&nbsp;</i>&nbsp; 거주인구 상위 50% <br>\n",
    "     &nbsp; <i style=\"background:yellow\">&nbsp;</i>&nbsp; 거주인구 상위 75% <br>\n",
    "     &nbsp; <i style=\"background:green\">&nbsp;</i>&nbsp; 거주인구 상위 100%<br>\n",
    "     &nbsp; <i style=\"background:white\">&nbsp;</i>&nbsp; 거주민 없는 구역\n",
    "     </div>\n",
    "     \"\"\"\n",
    "\n",
    "# map 생성\n",
    "m = folium.Map(location=Asan, tiles='cartodbpositron', zoom_start=11)\n",
    "\n",
    "# 기본 배경지도를 항상 표시하도록 설정 및 기본 grid(격자) 추가\n",
    "folium.TileLayer('cartodbpositron').add_to(m)\n",
    "\n",
    "# 행정구역 polygon 추가\n",
    "for _, row in asan_gdf.iterrows() :\n",
    "    folium.GeoJson(\n",
    "        row['geometry'],\n",
    "        name=row['ADM_NM'],\n",
    "        style_function=lambda feature: {\n",
    "            'fillColor': 'none',\n",
    "            'color': 'black',\n",
    "            'weight': 1\n",
    "        }).add_to(m)\n",
    "\n",
    "# 연도별 레이어 추가. 체크해제(비활성화)된 상태로 표시되도록 함\n",
    "m_2021 = folium.FeatureGroup(name=\"2021년\", overlay=False)\n",
    "m_2022 = folium.FeatureGroup(name=\"2022년\", overlay=False)\n",
    "m_2023 = folium.FeatureGroup(name=\"2023년\", overlay=False)\n",
    "\n",
    "# 연도와 레이어를 매핑하려 dict 형식으로 저장\n",
    "year_lst = [str(year) for year in range(2021, 2024)]\n",
    "layers_lst = [m_2021, m_2022, m_2023]\n",
    "layers_dic = {}\n",
    "for year, layer in zip(year_lst, layers_lst):\n",
    "    layers_dic[year] = layer\n",
    "\n",
    "# 연도별 데이터프레임을 만들고 그 연도에 해당하는 레이어에 추가\n",
    "for year in year_lst:  # 2021부터 2023까지의 연도\n",
    "    filtered_grid_respop_year = grid_respop[grid_respop['year'] == year]\n",
    "    max_v = filtered_grid_respop_year['인구'].max()\n",
    "    # 인구의 상위 25%, 50%, 75%에 해당하는 값 계산\n",
    "    q25 = filtered_grid_respop_year['인구'].quantile(0.25)\n",
    "    q50 = filtered_grid_respop_year['인구'].quantile(0.50)\n",
    "    q75 = filtered_grid_respop_year['인구'].quantile(0.75)\n",
    "    filtered_grid_respop_year['color'] = filtered_grid_respop_year['인구'].apply(lambda x : get_color(x, q75, q50, q25))\n",
    "\n",
    "    # 'gid' 값을 기준으로 그룹화\n",
    "    for gid in tqdm(filtered_grid_respop_year['gid'].unique()):\n",
    "        subset = filtered_grid_respop_year[filtered_grid_respop_year['gid'] == gid].copy()\n",
    "        subset_pop = subset['인구'].iloc[0]\n",
    "        color = subset['color'].iloc[0]\n",
    "        folium.GeoJson(\n",
    "            filtered_grid_respop_year[filtered_grid_respop_year['gid'] == gid]['geometry'].iloc[0],\n",
    "            style_function=lambda feature, color=color: {\n",
    "                'fillColor': color,\n",
    "                'color': 'black',\n",
    "                'weight': 1}\n",
    "        ).add_to(layers_dic[year])\n",
    "    \n",
    "for layer_instance in layers_dic.values():\n",
    "    layer_instance.add_to(m)\n",
    "\n",
    "# LayerControl을 사용하여 연도 선택\n",
    "folium.LayerControl(collapsed=False).add_to(m)\n",
    "\n",
    "# 범례 추가\n",
    "m.get_root().html.add_child(folium.Element(legend_html))\n",
    "m"
   ]
  },
  {
   "cell_type": "code",
   "execution_count": 127,
   "metadata": {},
   "outputs": [],
   "source": [
    "m.save(\"visualization/1. 아산시 인구변화 분석/아산시 거주인구 시각화(격자매핑).html\")"
   ]
  },
  {
   "cell_type": "markdown",
   "metadata": {},
   "source": [
    "#### 아산시 거주인구 HEATMAP - 연도선택"
   ]
  },
  {
   "cell_type": "code",
   "execution_count": null,
   "metadata": {},
   "outputs": [],
   "source": [
    "# 지도 생성\n",
    "m = folium.Map(location=Asan, tiles='cartodbpositron', zoom_start=11)\n",
    "\n",
    "roal_geojson = roadsystem_df['geometry'].to_json()\n",
    "roal_layer = folium.GeoJson(\n",
    "    roal_geojson,\n",
    "    name=\"도로망\",\n",
    "    style_function=lambda feature: {\n",
    "        'fillColor': 'none',\n",
    "        'color': 'gray',\n",
    "        'weight': 3\n",
    "    })\n",
    "roal_layer.add_to(m)\n",
    "\n",
    "# 행정구역 polygon 추가\n",
    "for _, row in asan_gdf.iterrows() :\n",
    "    folium.GeoJson(\n",
    "        row['geometry'],\n",
    "        name=row['ADM_NM'],\n",
    "        style_function=lambda feature: {\n",
    "            'fillColor': 'none',\n",
    "            'color': 'black',\n",
    "            'weight': 1\n",
    "        }).add_to(m)\n",
    "\n",
    "# 기본 배경지도를 항상 표시하도록 설정\n",
    "folium.TileLayer('cartodbpositron', overlay=False).add_to(m)\n",
    "\n",
    "# 연도별 레이어 추가. 체크해제(비활성화)된 상태로 표시되도록 함\n",
    "m_2021 = folium.FeatureGroup(name=\"2021년\", overlay=False)\n",
    "m_2022 = folium.FeatureGroup(name=\"2022년\", overlay=False)\n",
    "m_2023 = folium.FeatureGroup(name=\"2023년\", overlay=False)\n",
    "\n",
    "# 연도와 레이어를 매핑하려 dict 형식으로 저장\n",
    "year_lst = [str(year) for year in range(2021, 2024)]\n",
    "layers_lst = [m_2021, m_2022, m_2023]\n",
    "layers_dic = {}\n",
    "for year, layer in zip(year_lst, layers_lst):\n",
    "    layers_dic[year] = layer\n",
    "\n",
    "# 연도별 데이터프레임을 만들고 레이어 추가\n",
    "for year in year_lst:  # 2021부터 2023까지의 연도\n",
    "    subset = grid_respop[grid_respop['year'] == year]\n",
    "    # '인구'과 'geometry'을 사용하여 HeatMap 생성\n",
    "    heat_data = [[point.centroid.xy[1][0], point.centroid.xy[0][0], aging] for point, aging in zip(subset['geometry'], subset['인구'])]\n",
    "    HeatMap(heat_data, max_opacity=0.6, radius=20).add_to(layers_dic[year])\n",
    "\n",
    "for layer_instance in layers_dic.values():\n",
    "    layer_instance.add_to(m)\n",
    "\n",
    "# LayerControl을 사용하여 연도 선택\n",
    "folium.LayerControl(collapsed=False).add_to(m)\n",
    "\n",
    "# 지도 출력\n",
    "m"
   ]
  },
  {
   "cell_type": "code",
   "execution_count": 134,
   "metadata": {},
   "outputs": [],
   "source": [
    "m.save(\"visualization/1. 아산시 인구변화 분석/아산시 거주인구 HEATMAP.html\")"
   ]
  },
  {
   "attachments": {},
   "cell_type": "markdown",
   "metadata": {},
   "source": [
    "#### 아산시 거주인구 고령화 정도 시각화(격자매핑)"
   ]
  },
  {
   "cell_type": "code",
   "execution_count": null,
   "metadata": {},
   "outputs": [],
   "source": [
    "#  고령화 정도에 따라 grid색상을 지정하는 함수\n",
    "def rate_color(rate):\n",
    "    if rate > 20:\n",
    "        return 'RGBA(255,0,1)' # 빨간색\n",
    "    elif 20 > rate >= 14:\n",
    "        return 'RGBA(255,165,1)' # 주황색\n",
    "    elif 14 > rate >= 7:\n",
    "        return 'RGBA(255,255,1)' # 노란색\n",
    "    elif 7 > rate >= 0:\n",
    "        return 'RGBA(0,128,1)' # 초록색\n",
    "\n",
    "# 범례 생성\n",
    "legend_html = \"\"\"\n",
    "     <div style=\"position: fixed; \n",
    "     bottom: 50px; left: 50px; width: 350px; height: 130px; \n",
    "     border:2px solid grey; z-index:9999; font-size:14px;\n",
    "     background-color: rgba(255, 255, 255, 1);\n",
    "     \"> &nbsp; 고령화 정도 범례 <br>\n",
    "     &nbsp; <i style=\"background:red\">&nbsp;</i>&nbsp; 초고령 구역 (60세 이상인구 20% 이상)<br>\n",
    "     &nbsp; <i style=\"background:orange\">&nbsp;</i>&nbsp; 고령 구역 (60세 이상인구 14% 이상 20% 이하)<br>\n",
    "     &nbsp; <i style=\"background:yellow\">&nbsp;</i>&nbsp; 고령화 구역 (60세 이상인구 7% 이상 14% 이하)<br>\n",
    "     &nbsp; <i style=\"background:green\">&nbsp;</i>&nbsp; 일반 구역 (60세 이상인구 7% 이하)<br>\n",
    "     &nbsp; <i style=\"background:white\">&nbsp;</i>&nbsp; 거주민 없는 구역\n",
    "     </div>\n",
    "     \"\"\"\n",
    "\n",
    "# map 생성\n",
    "m = folium.Map(location=Asan, tiles='cartodbpositron', zoom_start=11)\n",
    "\n",
    "# 기본 배경지도를 항상 표시하도록 설정 및 기본 grid(격자) 추가\n",
    "folium.TileLayer('cartodbpositron').add_to(m)\n",
    "\n",
    "# 행정구역 polygon 추가\n",
    "for _, row in asan_gdf.iterrows() :\n",
    "    folium.GeoJson(\n",
    "        row['geometry'],\n",
    "        name=row['ADM_NM'],\n",
    "        style_function=lambda feature: {\n",
    "            'fillColor': 'none',\n",
    "            'color': 'black',\n",
    "            'weight': 1\n",
    "        }).add_to(m)\n",
    "\n",
    "# 연도별 레이어 추가. 체크해제(비활성화)된 상태로 표시되도록 함\n",
    "m_2021 = folium.FeatureGroup(name=\"2021년\", overlay=False)\n",
    "m_2022 = folium.FeatureGroup(name=\"2022년\", overlay=False)\n",
    "m_2023 = folium.FeatureGroup(name=\"2023년\", overlay=False)\n",
    "\n",
    "# 연도와 레이어를 매핑하려 dict 형식으로 저장\n",
    "year_lst = [str(year) for year in range(2021, 2024)]\n",
    "layers_lst = [m_2021, m_2022, m_2023]\n",
    "layers_dic = {}\n",
    "for year, layer in zip(year_lst, layers_lst):\n",
    "    layers_dic[year] = layer\n",
    "\n",
    "# 연도별 데이터프레임을 만들고 그 연도에 해당하는 레이어에 추가\n",
    "for year in year_lst:  # 2021부터 2023까지의 연도\n",
    "    filtered_grid_respop_year = grid_respop[grid_respop['year'] == year]\n",
    "\n",
    "    # 'gid' 값을 기준으로 그룹화\n",
    "    for gid in tqdm(filtered_grid_respop_year['gid'].unique()):\n",
    "        subset = filtered_grid_respop_year[filtered_grid_respop_year['gid'] == gid].copy()\n",
    "        rate = subset['고령인구_비율'].iloc[0]\n",
    "        color = rate_color(rate)\n",
    "        subset['고령인구_비율'] = subset['고령인구_비율'].apply(lambda x: str(x) + '%')\n",
    "\n",
    "        # subset_popup 데이터프레임을 HTML로 변환하여 popup text에 저장(격자를 클릭하면 df 팝업됨)\n",
    "        subset_popup = subset.iloc[:, 1:-1].style.hide(axis='index').set_properties(\n",
    "            **{'border': '1px solid black'}).to_html()  # [['연도', '고령인구_비율']]\n",
    "        popup_text = f\"<div style='max-height: 200px; max-width: 700px; overflow-y: auto;'>{subset_popup}</div>\"\n",
    "        color = rate_color(rate)\n",
    "        folium.GeoJson(\n",
    "            filtered_grid_respop_year[filtered_grid_respop_year['gid'] == gid]['geometry'].iloc[0],\n",
    "            style_function=lambda feature, color=color: {\n",
    "                'fillColor': color,\n",
    "                'color': 'black',\n",
    "                'weight': 1}\n",
    "        ).add_to(layers_dic[year]).add_child(folium.Popup(popup_text, max_width=1200), name=str(year))\n",
    "    \n",
    "for layer_instance in layers_dic.values():\n",
    "    layer_instance.add_to(m)\n",
    "\n",
    "# LayerControl을 사용하여 연도 선택\n",
    "folium.LayerControl(collapsed=False).add_to(m)\n",
    "\n",
    "# 범례 추가\n",
    "m.get_root().html.add_child(folium.Element(legend_html))\n",
    "m"
   ]
  },
  {
   "cell_type": "code",
   "execution_count": 140,
   "metadata": {},
   "outputs": [],
   "source": [
    "m.save(\"visualization/1. 아산시 인구변화 분석/아산시 고령화정도 시각화(격자매핑).html\")"
   ]
  },
  {
   "attachments": {},
   "cell_type": "markdown",
   "metadata": {},
   "source": [
    "#### 아산시 거주인구 고령화 정도 HEATMAP - 연도선택 가능"
   ]
  },
  {
   "cell_type": "code",
   "execution_count": null,
   "metadata": {},
   "outputs": [],
   "source": [
    "# 지도 생성\n",
    "m = folium.Map(location=Asan, tiles='cartodbpositron', zoom_start=11)\n",
    "\n",
    "roal_geojson = roadsystem_df['geometry'].to_json()\n",
    "roal_layer = folium.GeoJson(\n",
    "    roal_geojson,\n",
    "    name=\"도로망\",\n",
    "    style_function=lambda feature: {\n",
    "        'fillColor': 'none',\n",
    "        'color': 'gray',\n",
    "        'weight': 3\n",
    "    })\n",
    "roal_layer.add_to(m)\n",
    "\n",
    "# 행정구역 polygon 추가\n",
    "for _, row in asan_gdf.iterrows() :\n",
    "    folium.GeoJson(\n",
    "        row['geometry'],\n",
    "        name=row['ADM_NM'],\n",
    "        style_function=lambda feature: {\n",
    "            'fillColor': 'none',\n",
    "            'color': 'black',\n",
    "            'weight': 1\n",
    "        }).add_to(m)\n",
    "    \n",
    "# 기본 배경지도를 항상 표시하도록 설정\n",
    "folium.TileLayer('cartodbpositron', overlay=False).add_to(m)\n",
    "\n",
    "# 연도별 레이어 추가. 체크해제(비활성화)된 상태로 표시되도록 함\n",
    "m_2021 = folium.FeatureGroup(name=\"2021년\", overlay=False)\n",
    "m_2022 = folium.FeatureGroup(name=\"2022년\", overlay=False)\n",
    "m_2023 = folium.FeatureGroup(name=\"2023년\", overlay=False)\n",
    "\n",
    "# 연도와 레이어를 매핑하려 dict 형식으로 저장\n",
    "year_lst = [str(year) for year in range(2021, 2024)]\n",
    "layers_lst = [m_2021, m_2022, m_2023]\n",
    "layers_dic = {}\n",
    "for year, layer in zip(year_lst, layers_lst):\n",
    "    layers_dic[year] = layer\n",
    "\n",
    "# 연도별 데이터프레임을 만들고 레이어 추가\n",
    "for year in year_lst:  # 2021부터 2023까지의 연도\n",
    "    subset = grid_respop[grid_respop['year'] == year]\n",
    "    # '인구'과 'geometry'을 사용하여 HeatMap 생성\n",
    "    heat_data = [[point.centroid.xy[1][0], point.centroid.xy[0][0], aging] for point, aging in zip(subset['geometry'], subset['고령인구_비율'])]\n",
    "    HeatMap(heat_data, max_opacity=0.6, radius=20).add_to(layers_dic[year])\n",
    "for layer_instance in layers_dic.values():\n",
    "    layer_instance.add_to(m)\n",
    "    \n",
    "# LayerControl을 사용하여 연도 선택\n",
    "folium.LayerControl(collapsed=False).add_to(m)\n",
    "\n",
    "# 지도 출력\n",
    "m"
   ]
  },
  {
   "cell_type": "code",
   "execution_count": 144,
   "metadata": {},
   "outputs": [],
   "source": [
    "m.save(\"visualization/1. 아산시 인구변화 분석/아산시 고령화정도 HEATMAP.html\")"
   ]
  },
  {
   "cell_type": "markdown",
   "metadata": {},
   "source": [
    "#### 아산시 연도별 유동인구"
   ]
  },
  {
   "cell_type": "code",
   "execution_count": 147,
   "metadata": {},
   "outputs": [
    {
     "name": "stderr",
     "output_type": "stream",
     "text": [
      "c:\\Users\\HJK\\anaconda3\\envs\\GIS\\lib\\site-packages\\pyproj\\crs\\crs.py:141: FutureWarning:\n",
      "\n",
      "'+init=<authority>:<code>' syntax is deprecated. '<authority>:<code>' is the preferred initialization method. When making the change, be mindful of axis order changes: https://pyproj4.github.io/pyproj/stable/gotchas.html#axis-order-changes-in-proj-6\n",
      "\n",
      "c:\\Users\\HJK\\anaconda3\\envs\\GIS\\lib\\site-packages\\pyproj\\crs\\crs.py:141: FutureWarning:\n",
      "\n",
      "'+init=<authority>:<code>' syntax is deprecated. '<authority>:<code>' is the preferred initialization method. When making the change, be mindful of axis order changes: https://pyproj4.github.io/pyproj/stable/gotchas.html#axis-order-changes-in-proj-6\n",
      "\n"
     ]
    }
   ],
   "source": [
    "# 유동인구 df 로드\n",
    "floating_population_df = pd.read_csv('SBJ_2405_001/25.아산시_성연령별_유동인구.csv')\n",
    "floating_population_df['std_ym'] = floating_population_df['std_ym'].astype(str)\n",
    "floating_population_df = geo_transform(floating_population_df)\n",
    "floating_population_df['pop'] = floating_population_df.iloc[:, 1:-3].sum(axis=1).copy()\n",
    "col_lst = list(floating_population_df.columns[:1]) + list(floating_population_df.columns[-1:]) + list(floating_population_df.columns[-2:-1])\n",
    "floating_population_df = floating_population_df[col_lst]\n",
    "floating_population_df['std_ym'] = floating_population_df['std_ym'].apply(lambda x:x[:4])\n",
    "\n",
    "# 유동인구 정규화\n",
    "max_val = floating_population_df['pop'].max()\n",
    "floating_population_df['pop'] = floating_population_df['pop'].apply(lambda x : round((x/max_val)*100,2))\n",
    "\n",
    "floating_population_dic = {}\n",
    "for year in year_lst:\n",
    "    floating_population_dic[year] = floating_population_df[floating_population_df['std_ym'] == year]"
   ]
  },
  {
   "cell_type": "code",
   "execution_count": null,
   "metadata": {},
   "outputs": [],
   "source": [
    "# 지도 생성\n",
    "m = folium.Map(location=Asan, tiles='cartodbpositron', zoom_start=11)\n",
    "\n",
    "roal_geojson = roadsystem_df['geometry'].to_json()\n",
    "roal_layer = folium.GeoJson(\n",
    "    roal_geojson,\n",
    "    name=\"도로망\",\n",
    "    style_function=lambda feature: {\n",
    "        'fillColor': 'none',\n",
    "        'color': 'gray',\n",
    "        'weight': 3\n",
    "    })\n",
    "roal_layer.add_to(m)\n",
    "\n",
    "# 행정구역 polygon 추가\n",
    "for _, row in asan_gdf.iterrows() :\n",
    "    folium.GeoJson(\n",
    "        row['geometry'],\n",
    "        name=row['ADM_NM'],\n",
    "        style_function=lambda feature: {\n",
    "            'fillColor': 'none',\n",
    "            'color': 'black',\n",
    "            'weight': 1\n",
    "        }).add_to(m)\n",
    "    \n",
    "# 기본 배경지도를 항상 표시하도록 설정\n",
    "folium.TileLayer('cartodbpositron', overlay=False).add_to(m)\n",
    "\n",
    "# 연도별 레이어 추가. 체크해제(비활성화)된 상태로 표시되도록 함\n",
    "m_2021 = folium.FeatureGroup(name=\"2021년\", overlay=False)\n",
    "m_2022 = folium.FeatureGroup(name=\"2022년\", overlay=False)\n",
    "m_2023 = folium.FeatureGroup(name=\"2023년\", overlay=False)\n",
    "\n",
    "# 연도와 레이어를 매핑하려 dict 형식으로 저장\n",
    "year_lst = [str(year) for year in range(2021, 2024)]\n",
    "layers_lst = [m_2021, m_2022, m_2023]\n",
    "layers_dic = {}\n",
    "for year, layer in zip(year_lst, layers_lst):\n",
    "    layers_dic[year] = layer\n",
    "\n",
    "# 연도별 데이터프레임을 만들고 레이어 추가\n",
    "for year in year_lst:\n",
    "    # 'geometry' 열의 값을 위치 정보로 사용하여 유동인구 HeatMap 생성\n",
    "    heat_data = [[point.centroid.xy[1][0], point.centroid.xy[0][0], floating] for point, floating in tqdm(zip(floating_population_dic[year]['geometry'], floating_population_dic[year]['pop']))]\n",
    "    HeatMap(heat_data, max_opacity=0.6, radius=15).add_to(layers_dic[year])\n",
    "    \n",
    "for layer_instance in layers_dic.values():\n",
    "    layer_instance.add_to(m)\n",
    "\n",
    "# LayerControl을 사용하여 연도 선택\n",
    "folium.LayerControl(collapsed=False).add_to(m)\n",
    "\n",
    "# 지도 출력\n",
    "m"
   ]
  },
  {
   "cell_type": "code",
   "execution_count": 153,
   "metadata": {},
   "outputs": [],
   "source": [
    "m.save(\"visualization/1. 아산시 인구변화 분석/아산시 연도별 유동인구 HEATMAP.html\")"
   ]
  },
  {
   "cell_type": "markdown",
   "metadata": {},
   "source": [
    "#### 아산시 시간대별 유동인구"
   ]
  },
  {
   "cell_type": "code",
   "execution_count": 23,
   "metadata": {},
   "outputs": [
    {
     "name": "stderr",
     "output_type": "stream",
     "text": [
      "c:\\Users\\HJK\\anaconda3\\envs\\GIS\\lib\\site-packages\\pyproj\\crs\\crs.py:141: FutureWarning:\n",
      "\n",
      "'+init=<authority>:<code>' syntax is deprecated. '<authority>:<code>' is the preferred initialization method. When making the change, be mindful of axis order changes: https://pyproj4.github.io/pyproj/stable/gotchas.html#axis-order-changes-in-proj-6\n",
      "\n",
      "c:\\Users\\HJK\\anaconda3\\envs\\GIS\\lib\\site-packages\\pyproj\\crs\\crs.py:141: FutureWarning:\n",
      "\n",
      "'+init=<authority>:<code>' syntax is deprecated. '<authority>:<code>' is the preferred initialization method. When making the change, be mindful of axis order changes: https://pyproj4.github.io/pyproj/stable/gotchas.html#axis-order-changes-in-proj-6\n",
      "\n",
      "c:\\Users\\HJK\\anaconda3\\envs\\GIS\\lib\\site-packages\\geopandas\\geodataframe.py:1538: SettingWithCopyWarning:\n",
      "\n",
      "\n",
      "A value is trying to be set on a copy of a slice from a DataFrame.\n",
      "Try using .loc[row_indexer,col_indexer] = value instead\n",
      "\n",
      "See the caveats in the documentation: https://pandas.pydata.org/pandas-docs/stable/user_guide/indexing.html#returning-a-view-versus-a-copy\n",
      "\n",
      "c:\\Users\\HJK\\anaconda3\\envs\\GIS\\lib\\site-packages\\geopandas\\geodataframe.py:1538: SettingWithCopyWarning:\n",
      "\n",
      "\n",
      "A value is trying to be set on a copy of a slice from a DataFrame.\n",
      "Try using .loc[row_indexer,col_indexer] = value instead\n",
      "\n",
      "See the caveats in the documentation: https://pandas.pydata.org/pandas-docs/stable/user_guide/indexing.html#returning-a-view-versus-a-copy\n",
      "\n",
      "c:\\Users\\HJK\\anaconda3\\envs\\GIS\\lib\\site-packages\\geopandas\\geodataframe.py:1538: SettingWithCopyWarning:\n",
      "\n",
      "\n",
      "A value is trying to be set on a copy of a slice from a DataFrame.\n",
      "Try using .loc[row_indexer,col_indexer] = value instead\n",
      "\n",
      "See the caveats in the documentation: https://pandas.pydata.org/pandas-docs/stable/user_guide/indexing.html#returning-a-view-versus-a-copy\n",
      "\n"
     ]
    }
   ],
   "source": [
    "# 유동인구 df 로드\n",
    "floating_population_df_T = pd.read_csv('SBJ_2405_001/26.아산시_시간대별_유동인구.csv')\n",
    "floating_population_df_T['std_ym'] = floating_population_df_T['std_ym'].astype(str)\n",
    "floating_population_df_T = geo_transform(floating_population_df_T)\n",
    "floating_population_df_T['std_ym'] = floating_population_df_T['std_ym'].apply(lambda x:x[:4])\n",
    "\n",
    "# 열 이름 변경 과정\n",
    "columns_to_rename = floating_population_df_T.columns[1:-3] # 시계열 정보를 포함한 column만 선택\n",
    "new_column_names = []\n",
    "# 각 열 이름을 처리하여 새로운 열 이름을 생성\n",
    "for column_name in columns_to_rename:\n",
    "    numeric_part = column_name.split('_')[-1] # 숫자 부분 추출\n",
    "    new_column_name = f\"{numeric_part}시\" # '시'를 붙여 새로운 열 이름 생성\n",
    "    new_column_names.append(new_column_name) # new_column_names에 추가\n",
    "# 열 이름을 변경합니다.\n",
    "floating_population_df_T.rename(columns=dict(zip(columns_to_rename, new_column_names)), inplace=True)\n",
    "\n",
    "# 연도별 유동인구 분할\n",
    "floating_population_T_dic = {}\n",
    "for year in year_lst:\n",
    "    # geometry 컬럼을 문자열로 변환하여 그룹화\n",
    "    gdf = floating_population_df_T[floating_population_df_T['std_ym'] == year]\n",
    "    gdf['geometry_str'] = gdf['geometry'].astype(str)\n",
    "    # 제외할 컬럼 리스트\n",
    "    exclude_columns = ['std_ym', 'lon', 'lat', 'geometry', 'geometry_str']\n",
    "    # 그룹화할 컬럼 리스트 (제외할 컬럼을 제외한 나머지)\n",
    "    group_columns = [col for col in gdf.columns if col not in exclude_columns]\n",
    "    # geometry_str 컬럼을 기준으로 그룹화하고, 제외한 컬럼을 제외한 나머지 컬럼의 평균을 계산\n",
    "    grouped = gdf.groupby('geometry_str')[group_columns].mean()\n",
    "    # geometry_str 컬럼을 제거하고 원래 geometry 컬럼을 복원\n",
    "    grouped['geometry'] = gdf.groupby('geometry_str')['geometry'].first().values\n",
    "    # 결과를 GeoDataFrame으로 변환\n",
    "    grouped = gpd.GeoDataFrame(grouped, geometry='geometry')\n",
    "    grouped.reset_index(drop=True, inplace=True)\n",
    "    floating_population_T_dic[year] = grouped"
   ]
  },
  {
   "cell_type": "markdown",
   "metadata": {},
   "source": [
    "##### 2021년 시간대별 유동인구 변화"
   ]
  },
  {
   "cell_type": "code",
   "execution_count": null,
   "metadata": {},
   "outputs": [],
   "source": [
    "# 해당년도 df불러오기\n",
    "df_year = floating_population_T_dic['2021']\n",
    "\n",
    "# 지도 생성\n",
    "m = folium.Map(location=Asan, tiles='cartodbpositron', zoom_start=11)\n",
    "\n",
    "roal_geojson = roadsystem_df['geometry'].to_json()\n",
    "roal_layer = folium.GeoJson(\n",
    "    roal_geojson,\n",
    "    name=\"도로망\",\n",
    "    style_function=lambda feature: {\n",
    "        'fillColor': 'none',\n",
    "        'color': 'gray',\n",
    "        'weight': 3\n",
    "    })\n",
    "roal_layer.add_to(m)\n",
    "\n",
    "# 행정구역 polygon 추가\n",
    "for _, row in asan_gdf.iterrows() :\n",
    "    folium.GeoJson(\n",
    "        row['geometry'],\n",
    "        name=row['ADM_NM'],\n",
    "        style_function=lambda feature: {\n",
    "            'fillColor': 'none',\n",
    "            'color': 'black',\n",
    "            'weight': 1\n",
    "        }).add_to(m)\n",
    "    \n",
    "# 기본 배경지도를 항상 표시하도록 설정\n",
    "folium.TileLayer('cartodbpositron', overlay=False).add_to(m)\n",
    "\n",
    "# 데이터프레임에서 위도, 경도, 시간대별 데이터 추출\n",
    "latitudes = df_year['geometry'].y\n",
    "longitudes = df_year['geometry'].x\n",
    "# 시간대별 히트맵 데이터 생성\n",
    "heat_data = []\n",
    "for i in tqdm(range(24)):\n",
    "    time_column = f'{i:02}시'\n",
    "    volume = df_year[time_column]\n",
    "    heat_data_hour = [[lat, lon, vol] for lat, lon, vol in zip(latitudes, longitudes, volume)]\n",
    "    heat_data.append(heat_data_hour)\n",
    "\n",
    "# HeatMapWithTime을 추가\n",
    "plugins.HeatMapWithTime(heat_data, index=[f'{i:02}시' for i in range(24)], auto_play=False, max_opacity=0.6, radius=5, name='유동인구HEATMAP').add_to(m)\n",
    "\n",
    "\n",
    "# LayerControl을 사용하여 연도 선택\n",
    "folium.LayerControl(collapsed=False).add_to(m)\n",
    "\n",
    "# 지도 출력\n",
    "m"
   ]
  },
  {
   "cell_type": "code",
   "execution_count": 156,
   "metadata": {},
   "outputs": [],
   "source": [
    "m.save(\"visualization/1. 아산시 인구변화 분석/아산시 시간대별 유동인구 2021 HEATMAP.html\")"
   ]
  },
  {
   "cell_type": "markdown",
   "metadata": {},
   "source": [
    "##### 2022년 시간대별 유동인구 변화"
   ]
  },
  {
   "cell_type": "code",
   "execution_count": null,
   "metadata": {},
   "outputs": [],
   "source": [
    "# 해당년도 df불러오기\n",
    "df_year = floating_population_T_dic['2022']\n",
    "\n",
    "# 지도 생성\n",
    "m = folium.Map(location=Asan, tiles='cartodbpositron', zoom_start=11)\n",
    "\n",
    "roal_geojson = roadsystem_df['geometry'].to_json()\n",
    "roal_layer = folium.GeoJson(\n",
    "    roal_geojson,\n",
    "    name=\"도로망\",\n",
    "    style_function=lambda feature: {\n",
    "        'fillColor': 'none',\n",
    "        'color': 'gray',\n",
    "        'weight': 3\n",
    "    })\n",
    "roal_layer.add_to(m)\n",
    "\n",
    "# 행정구역 polygon 추가\n",
    "for _, row in asan_gdf.iterrows() :\n",
    "    folium.GeoJson(\n",
    "        row['geometry'],\n",
    "        name=row['ADM_NM'],\n",
    "        style_function=lambda feature: {\n",
    "            'fillColor': 'none',\n",
    "            'color': 'black',\n",
    "            'weight': 1\n",
    "        }).add_to(m)\n",
    "    \n",
    "# 기본 배경지도를 항상 표시하도록 설정\n",
    "folium.TileLayer('cartodbpositron', overlay=False).add_to(m)\n",
    "\n",
    "# 데이터프레임에서 위도, 경도, 시간대별 데이터 추출\n",
    "latitudes = df_year['geometry'].y\n",
    "longitudes = df_year['geometry'].x\n",
    "# 시간대별 히트맵 데이터 생성\n",
    "heat_data = []\n",
    "for i in tqdm(range(24)):\n",
    "    time_column = f'{i:02}시'\n",
    "    volume = df_year[time_column]\n",
    "    heat_data_hour = [[lat, lon, vol] for lat, lon, vol in zip(latitudes, longitudes, volume)]\n",
    "    heat_data.append(heat_data_hour)\n",
    "\n",
    "# HeatMapWithTime을 추가\n",
    "plugins.HeatMapWithTime(heat_data, index=[f'{i:02}시' for i in range(24)], auto_play=False, max_opacity=0.6, radius=5, name='유동인구HEATMAP').add_to(m)\n",
    "\n",
    "\n",
    "# LayerControl을 사용하여 연도 선택\n",
    "folium.LayerControl(collapsed=False).add_to(m)\n",
    "\n",
    "# 지도 출력\n",
    "m"
   ]
  },
  {
   "cell_type": "code",
   "execution_count": 158,
   "metadata": {},
   "outputs": [],
   "source": [
    "m.save(\"visualization/1. 아산시 인구변화 분석/아산시 시간대별 유동인구 2022 HEATMAP.html\")"
   ]
  },
  {
   "cell_type": "markdown",
   "metadata": {},
   "source": [
    "##### 2023년 시간대별 유동인구 변화"
   ]
  },
  {
   "cell_type": "code",
   "execution_count": null,
   "metadata": {},
   "outputs": [],
   "source": [
    "# 해당년도 df불러오기\n",
    "df_year = floating_population_T_dic['2023']\n",
    "\n",
    "# 지도 생성\n",
    "m = folium.Map(location=Asan, tiles='cartodbpositron', zoom_start=11)\n",
    "\n",
    "roal_geojson = roadsystem_df['geometry'].to_json()\n",
    "roal_layer = folium.GeoJson(\n",
    "    roal_geojson,\n",
    "    name=\"도로망\",\n",
    "    style_function=lambda feature: {\n",
    "        'fillColor': 'none',\n",
    "        'color': 'gray',\n",
    "        'weight': 3\n",
    "    })\n",
    "roal_layer.add_to(m)\n",
    "\n",
    "# 행정구역 polygon 추가\n",
    "for _, row in asan_gdf.iterrows() :\n",
    "    folium.GeoJson(\n",
    "        row['geometry'],\n",
    "        name=row['ADM_NM'],\n",
    "        style_function=lambda feature: {\n",
    "            'fillColor': 'none',\n",
    "            'color': 'black',\n",
    "            'weight': 1\n",
    "        }).add_to(m)\n",
    "    \n",
    "# 기본 배경지도를 항상 표시하도록 설정\n",
    "folium.TileLayer('cartodbpositron', overlay=False).add_to(m)\n",
    "\n",
    "# 데이터프레임에서 위도, 경도, 시간대별 데이터 추출\n",
    "latitudes = df_year['geometry'].y\n",
    "longitudes = df_year['geometry'].x\n",
    "# 시간대별 히트맵 데이터 생성\n",
    "heat_data = []\n",
    "for i in tqdm(range(24)):\n",
    "    time_column = f'{i:02}시'\n",
    "    volume = df_year[time_column]\n",
    "    heat_data_hour = [[lat, lon, vol] for lat, lon, vol in zip(latitudes, longitudes, volume)]\n",
    "    heat_data.append(heat_data_hour)\n",
    "\n",
    "# HeatMapWithTime을 추가\n",
    "plugins.HeatMapWithTime(heat_data, index=[f'{i:02}시' for i in range(24)], auto_play=False, max_opacity=0.6, radius=5, name='유동인구HEATMAP').add_to(m)\n",
    "\n",
    "\n",
    "# LayerControl을 사용하여 연도 선택\n",
    "folium.LayerControl(collapsed=False).add_to(m)\n",
    "\n",
    "# 지도 출력\n",
    "m"
   ]
  },
  {
   "cell_type": "code",
   "execution_count": 160,
   "metadata": {},
   "outputs": [],
   "source": [
    "m.save(\"visualization/1. 아산시 인구변화 분석/아산시 시간대별 유동인구 2023 HEATMAP.html\")"
   ]
  },
  {
   "cell_type": "markdown",
   "metadata": {},
   "source": [
    "#### 아산시 요일별 유동인구"
   ]
  },
  {
   "cell_type": "code",
   "execution_count": 10,
   "metadata": {},
   "outputs": [
    {
     "name": "stderr",
     "output_type": "stream",
     "text": [
      "c:\\Users\\HJK\\anaconda3\\envs\\GIS\\lib\\site-packages\\pyproj\\crs\\crs.py:141: FutureWarning:\n",
      "\n",
      "'+init=<authority>:<code>' syntax is deprecated. '<authority>:<code>' is the preferred initialization method. When making the change, be mindful of axis order changes: https://pyproj4.github.io/pyproj/stable/gotchas.html#axis-order-changes-in-proj-6\n",
      "\n",
      "c:\\Users\\HJK\\anaconda3\\envs\\GIS\\lib\\site-packages\\pyproj\\crs\\crs.py:141: FutureWarning:\n",
      "\n",
      "'+init=<authority>:<code>' syntax is deprecated. '<authority>:<code>' is the preferred initialization method. When making the change, be mindful of axis order changes: https://pyproj4.github.io/pyproj/stable/gotchas.html#axis-order-changes-in-proj-6\n",
      "\n",
      "c:\\Users\\HJK\\anaconda3\\envs\\GIS\\lib\\site-packages\\geopandas\\geodataframe.py:1538: SettingWithCopyWarning:\n",
      "\n",
      "\n",
      "A value is trying to be set on a copy of a slice from a DataFrame.\n",
      "Try using .loc[row_indexer,col_indexer] = value instead\n",
      "\n",
      "See the caveats in the documentation: https://pandas.pydata.org/pandas-docs/stable/user_guide/indexing.html#returning-a-view-versus-a-copy\n",
      "\n",
      "c:\\Users\\HJK\\anaconda3\\envs\\GIS\\lib\\site-packages\\geopandas\\geodataframe.py:1538: SettingWithCopyWarning:\n",
      "\n",
      "\n",
      "A value is trying to be set on a copy of a slice from a DataFrame.\n",
      "Try using .loc[row_indexer,col_indexer] = value instead\n",
      "\n",
      "See the caveats in the documentation: https://pandas.pydata.org/pandas-docs/stable/user_guide/indexing.html#returning-a-view-versus-a-copy\n",
      "\n",
      "c:\\Users\\HJK\\anaconda3\\envs\\GIS\\lib\\site-packages\\geopandas\\geodataframe.py:1538: SettingWithCopyWarning:\n",
      "\n",
      "\n",
      "A value is trying to be set on a copy of a slice from a DataFrame.\n",
      "Try using .loc[row_indexer,col_indexer] = value instead\n",
      "\n",
      "See the caveats in the documentation: https://pandas.pydata.org/pandas-docs/stable/user_guide/indexing.html#returning-a-view-versus-a-copy\n",
      "\n"
     ]
    }
   ],
   "source": [
    "floating_population_df_D = pd.read_csv('SBJ_2405_001/27.아산시_요일별_유동인구.csv')\n",
    "\n",
    "floating_population_df_D['std_ym'] = floating_population_df_D['std_ym'].astype(str)\n",
    "floating_population_df_D = geo_transform(floating_population_df_D)\n",
    "floating_population_df_D['std_ym'] = floating_population_df_D['std_ym'].apply(lambda x:x[:4])\n",
    "\n",
    "# 열 이름 변경 과정\n",
    "columns_to_rename = floating_population_df_D.columns[1:-3] # 시계열 정보를 포함한 column만 선택\n",
    "new_column_names = []\n",
    "# 각 열 이름을 처리하여 새로운 열 이름을 생성\n",
    "for column_name in columns_to_rename:\n",
    "    day_part = column_name.split('_')[0] # 숫자 부분 추출\n",
    "    new_column_names.append(day_part) # new_column_names에 추가\n",
    "# 열 이름을 변경합니다.\n",
    "floating_population_df_D.rename(columns=dict(zip(columns_to_rename, new_column_names)), inplace=True)\n",
    "\n",
    "# 연도별 유동인구 분할\n",
    "floating_population_D_dic = {}\n",
    "for year in year_lst:\n",
    "    # geometry 컬럼을 문자열로 변환하여 그룹화\n",
    "    gdf = floating_population_df_D[floating_population_df_D['std_ym'] == year]\n",
    "    gdf['geometry_str'] = gdf['geometry'].astype(str)\n",
    "    # 제외할 컬럼 리스트\n",
    "    exclude_columns = ['std_ym', 'lon', 'lat', 'geometry', 'geometry_str']\n",
    "    # 그룹화할 컬럼 리스트 (제외할 컬럼을 제외한 나머지)\n",
    "    group_columns = [col for col in gdf.columns if col not in exclude_columns]\n",
    "    # geometry_str 컬럼을 기준으로 그룹화하고, 제외한 컬럼을 제외한 나머지 컬럼의 평균을 계산\n",
    "    grouped = gdf.groupby('geometry_str')[group_columns].mean()\n",
    "    # geometry_str 컬럼을 제거하고 원래 geometry 컬럼을 복원\n",
    "    grouped['geometry'] = gdf.groupby('geometry_str')['geometry'].first().values\n",
    "    # 결과를 GeoDataFrame으로 변환\n",
    "    grouped = gpd.GeoDataFrame(grouped, geometry='geometry')\n",
    "    grouped.reset_index(drop=True, inplace=True)\n",
    "    floating_population_D_dic[year] = grouped"
   ]
  },
  {
   "cell_type": "markdown",
   "metadata": {},
   "source": [
    "##### 2021년 요일별 유동인구 변화"
   ]
  },
  {
   "cell_type": "code",
   "execution_count": null,
   "metadata": {},
   "outputs": [],
   "source": [
    "# 해당년도 df불러오기\n",
    "df_year = floating_population_D_dic['2021']\n",
    "\n",
    "# 지도 생성\n",
    "m = folium.Map(location=Asan, tiles='cartodbpositron', zoom_start=11)\n",
    "\n",
    "roal_geojson = roadsystem_df['geometry'].to_json()\n",
    "roal_layer = folium.GeoJson(\n",
    "    roal_geojson,\n",
    "    name=\"도로망\",\n",
    "    style_function=lambda feature: {\n",
    "        'fillColor': 'none',\n",
    "        'color': 'gray',\n",
    "        'weight': 3\n",
    "    })\n",
    "roal_layer.add_to(m)\n",
    "\n",
    "# 행정구역 polygon 추가\n",
    "for _, row in asan_gdf.iterrows() :\n",
    "    folium.GeoJson(\n",
    "        row['geometry'],\n",
    "        name=row['ADM_NM'],\n",
    "        style_function=lambda feature: {\n",
    "            'fillColor': 'none',\n",
    "            'color': 'black',\n",
    "            'weight': 1\n",
    "        }).add_to(m)\n",
    "    \n",
    "# 기본 배경지도를 항상 표시하도록 설정\n",
    "folium.TileLayer('cartodbpositron', overlay=False).add_to(m)\n",
    "\n",
    "# 데이터프레임에서 위도, 경도, 시간대별 데이터 추출\n",
    "latitudes = df_year['geometry'].y\n",
    "longitudes = df_year['geometry'].x\n",
    "# 시간대별 히트맵 데이터 생성\n",
    "heat_data = []\n",
    "for day in tqdm(df_year.columns[:7]):\n",
    "    volume = df_year[day]\n",
    "    heat_data_hour = [[lat, lon, vol] for lat, lon, vol in zip(latitudes, longitudes, volume)]\n",
    "    heat_data.append(heat_data_hour)\n",
    "\n",
    "# HeatMapWithTime을 추가\n",
    "plugins.HeatMapWithTime(heat_data, index=[day for day in df_year.columns[:7]], auto_play=False, max_opacity=0.6, radius=3, name='유동인구HEATMAP').add_to(m)\n",
    "\n",
    "\n",
    "# LayerControl을 사용하여 연도 선택\n",
    "folium.LayerControl(collapsed=False).add_to(m)\n",
    "\n",
    "# 지도 출력\n",
    "m"
   ]
  },
  {
   "cell_type": "code",
   "execution_count": 172,
   "metadata": {},
   "outputs": [],
   "source": [
    "m.save(\"visualization/1. 아산시 인구변화 분석/아산시 요일별 유동인구 2021 HEATMAP.html\")"
   ]
  },
  {
   "cell_type": "markdown",
   "metadata": {},
   "source": [
    "##### 2022년 요일별 유동인구 변화"
   ]
  },
  {
   "cell_type": "code",
   "execution_count": null,
   "metadata": {},
   "outputs": [],
   "source": [
    "# 해당년도 df불러오기\n",
    "df_year = floating_population_D_dic['2022']\n",
    "\n",
    "# 지도 생성\n",
    "m = folium.Map(location=Asan, tiles='cartodbpositron', zoom_start=11)\n",
    "\n",
    "roal_geojson = roadsystem_df['geometry'].to_json()\n",
    "roal_layer = folium.GeoJson(\n",
    "    roal_geojson,\n",
    "    name=\"도로망\",\n",
    "    style_function=lambda feature: {\n",
    "        'fillColor': 'none',\n",
    "        'color': 'gray',\n",
    "        'weight': 3\n",
    "    })\n",
    "roal_layer.add_to(m)\n",
    "\n",
    "# 행정구역 polygon 추가\n",
    "for _, row in asan_gdf.iterrows() :\n",
    "    folium.GeoJson(\n",
    "        row['geometry'],\n",
    "        name=row['ADM_NM'],\n",
    "        style_function=lambda feature: {\n",
    "            'fillColor': 'none',\n",
    "            'color': 'black',\n",
    "            'weight': 1\n",
    "        }).add_to(m)\n",
    "    \n",
    "# 기본 배경지도를 항상 표시하도록 설정\n",
    "folium.TileLayer('cartodbpositron', overlay=False).add_to(m)\n",
    "\n",
    "# 데이터프레임에서 위도, 경도, 시간대별 데이터 추출\n",
    "latitudes = df_year['geometry'].y\n",
    "longitudes = df_year['geometry'].x\n",
    "# 시간대별 히트맵 데이터 생성\n",
    "heat_data = []\n",
    "for day in tqdm(df_year.columns[:7]):\n",
    "    volume = df_year[day]\n",
    "    heat_data_hour = [[lat, lon, vol] for lat, lon, vol in zip(latitudes, longitudes, volume)]\n",
    "    heat_data.append(heat_data_hour)\n",
    "\n",
    "# HeatMapWithTime을 추가\n",
    "plugins.HeatMapWithTime(heat_data, index=[day for day in df_year.columns[:7]], auto_play=False, max_opacity=0.6, radius=3, name='유동인구HEATMAP').add_to(m)\n",
    "\n",
    "\n",
    "# LayerControl을 사용하여 연도 선택\n",
    "folium.LayerControl(collapsed=False).add_to(m)\n",
    "\n",
    "# 지도 출력\n",
    "m"
   ]
  },
  {
   "cell_type": "code",
   "execution_count": 174,
   "metadata": {},
   "outputs": [],
   "source": [
    "m.save(\"visualization/1. 아산시 인구변화 분석/아산시 요일별 유동인구 2022 HEATMAP.html\")"
   ]
  },
  {
   "cell_type": "markdown",
   "metadata": {},
   "source": [
    "##### 2023년 요일별 유동인구 변화"
   ]
  },
  {
   "cell_type": "code",
   "execution_count": null,
   "metadata": {},
   "outputs": [],
   "source": [
    "# 해당년도 df불러오기\n",
    "df_year = floating_population_D_dic['2023']\n",
    "\n",
    "# 지도 생성\n",
    "m = folium.Map(location=Asan, tiles='cartodbpositron', zoom_start=11)\n",
    "\n",
    "roal_geojson = roadsystem_df['geometry'].to_json()\n",
    "roal_layer = folium.GeoJson(\n",
    "    roal_geojson,\n",
    "    name=\"도로망\",\n",
    "    style_function=lambda feature: {\n",
    "        'fillColor': 'none',\n",
    "        'color': 'gray',\n",
    "        'weight': 3\n",
    "    })\n",
    "roal_layer.add_to(m)\n",
    "\n",
    "# 행정구역 polygon 추가\n",
    "for _, row in asan_gdf.iterrows() :\n",
    "    folium.GeoJson(\n",
    "        row['geometry'],\n",
    "        name=row['ADM_NM'],\n",
    "        style_function=lambda feature: {\n",
    "            'fillColor': 'none',\n",
    "            'color': 'black',\n",
    "            'weight': 1\n",
    "        }).add_to(m)\n",
    "    \n",
    "# 기본 배경지도를 항상 표시하도록 설정\n",
    "folium.TileLayer('cartodbpositron', overlay=False).add_to(m)\n",
    "\n",
    "# 데이터프레임에서 위도, 경도, 시간대별 데이터 추출\n",
    "latitudes = df_year['geometry'].y\n",
    "longitudes = df_year['geometry'].x\n",
    "# 시간대별 히트맵 데이터 생성\n",
    "heat_data = []\n",
    "for day in tqdm(df_year.columns[:7]):\n",
    "    volume = df_year[day]\n",
    "    heat_data_hour = [[lat, lon, vol] for lat, lon, vol in zip(latitudes, longitudes, volume)]\n",
    "    heat_data.append(heat_data_hour)\n",
    "\n",
    "# HeatMapWithTime을 추가\n",
    "plugins.HeatMapWithTime(heat_data, index=[day for day in df_year.columns[:7]], auto_play=False, max_opacity=0.6, radius=3, name='유동인구HEATMAP').add_to(m)\n",
    "\n",
    "\n",
    "# LayerControl을 사용하여 연도 선택\n",
    "folium.LayerControl(collapsed=False).add_to(m)\n",
    "\n",
    "# 지도 출력\n",
    "m"
   ]
  },
  {
   "cell_type": "code",
   "execution_count": 12,
   "metadata": {},
   "outputs": [],
   "source": [
    "m.save(\"visualization/1. 아산시 인구변화 분석/아산시 요일별 유동인구 2023 HEATMAP.html\")"
   ]
  }
 ],
 "metadata": {
  "kernelspec": {
   "display_name": "Python 3.8.16 ('GIS')",
   "language": "python",
   "name": "python3"
  },
  "language_info": {
   "codemirror_mode": {
    "name": "ipython",
    "version": 3
   },
   "file_extension": ".py",
   "mimetype": "text/x-python",
   "name": "python",
   "nbconvert_exporter": "python",
   "pygments_lexer": "ipython3",
   "version": "3.8.16"
  },
  "orig_nbformat": 4,
  "vscode": {
   "interpreter": {
    "hash": "4c2ab1d16d29501e38a3ee1978e97de755e76d74519759c8e0a07f6b08052ab1"
   }
  }
 },
 "nbformat": 4,
 "nbformat_minor": 2
}
