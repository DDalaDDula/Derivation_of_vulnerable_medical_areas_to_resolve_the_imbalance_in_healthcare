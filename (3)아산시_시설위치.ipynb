{
 "cells": [
  {
   "attachments": {},
   "cell_type": "markdown",
   "metadata": {},
   "source": [
    "## 기본설정 및 함수정의"
   ]
  },
  {
   "cell_type": "code",
   "execution_count": 1,
   "metadata": {},
   "outputs": [],
   "source": [
    "import pandas as pd\n",
    "import numpy as np\n",
    "import plotly.express as px\n",
    "import plotly.graph_objects as go\n",
    "import plotly.graph_objs as go\n",
    "import plotly.offline as offline\n",
    "from folium.plugins import HeatMapWithTime\n",
    "from plotly.subplots import make_subplots\n",
    "import folium\n",
    "from folium import plugins\n",
    "from folium.plugins import HeatMap\n",
    "from folium import FeatureGroup\n",
    "import json\n",
    "import math\n",
    "import re\n",
    "from datetime import datetime\n",
    "import os\n",
    "import glob\n",
    "import subprocess\n",
    "from bs4 import BeautifulSoup as bs\n",
    "from shapely.geometry import Point, Polygon, LineString\n",
    "import geopandas as gpd\n",
    "from geopandas import GeoSeries\n",
    "import pyproj\n",
    "from tqdm import tqdm\n",
    "from keplergl import KeplerGl\n",
    "\n",
    "# 모든 열이 생략되지 않도록 설정\n",
    "pd.set_option('display.max_columns', None)\n",
    "\n",
    "# 아산시청 위도, 경도\n",
    "Asan = [36.789882248764656, 127.00274491353838]\n",
    "\n",
    "# Polygon을 만드는 함수\n",
    "def make_pol(x):\n",
    "    try:\n",
    "        return Polygon(x[0])\n",
    "    except:\n",
    "        return Polygon(x[0][0])\n",
    "    \n",
    "# Linestring을 만드는 함수\n",
    "def make_lin(x):\n",
    "    try:\n",
    "        return LineString(x)\n",
    "    except:\n",
    "        return LineString(x[0])\n",
    "\n",
    "# 데이터프레임을 GeoPandas 데이터프레임으로 변환하는 함수 정의\n",
    "def geo_transform(DataFrame) :\n",
    "    # csv to geopandas\n",
    "    # lon, lat data를 geometry로 변경\n",
    "    DataFrame['lat'] = DataFrame['lat'].astype(float)\n",
    "    DataFrame['lon'] = DataFrame['lon'].astype(float)\n",
    "    DataFrame['geometry'] = DataFrame.apply(lambda row : Point([row['lon'], row['lat']]), axis=1) # 위도 및 경도롤 GeoPandas Point 객체로 변환\n",
    "    DataFrame = gpd.GeoDataFrame(DataFrame, geometry='geometry')\n",
    "    DataFrame.crs = {'init':'epsg:4326'} # geopandas 데이터프레임의 좌표계를 EPSG 4326으로 설정\n",
    "    DataFrame = DataFrame.to_crs({'init':'epsg:4326'}) # 데이터프레임의 좌표계를 자체 좌표계에서 EPSG 4326으로 변환\n",
    "    return DataFrame"
   ]
  },
  {
   "cell_type": "markdown",
   "metadata": {},
   "source": [
    "#### 아산시 행정경계 (출처 - 통계지리정보서비스 2023년 센서스용 행정구역경계(읍면동))"
   ]
  },
  {
   "cell_type": "code",
   "execution_count": 2,
   "metadata": {},
   "outputs": [],
   "source": [
    "# shp to geodataframe convert\n",
    "shapefile_path = \"SBJ_2405_001/_census_data_2023_bnd_dong_bnd_dong_34040_2023_2023/bnd_dong_34040_2023_2023_2Q.shp\"\n",
    "asan_gdf = gpd.read_file(shapefile_path)\n",
    "asan_gdf = asan_gdf.to_crs(epsg=4326) #EPSG4326 형식으로 변환\n",
    "\n",
    "# 행정동 구분에 따라 색 구분하는 함수\n",
    "def hjd_color(name):\n",
    "    if name[-1] == '읍':\n",
    "        return 'green'\n",
    "    elif name[-1] == '면':\n",
    "        return 'yellow'\n",
    "    elif name[-1] == '동':\n",
    "        return 'red'\n",
    "\n",
    "asan_gdf['color'] = asan_gdf['ADM_NM'].apply(hjd_color)"
   ]
  },
  {
   "cell_type": "code",
   "execution_count": null,
   "metadata": {},
   "outputs": [],
   "source": [
    "# map 생성\n",
    "m = folium.Map(location=Asan, tiles='cartodbpositron', zoom_start=11)\n",
    "\n",
    "# 필터링된 원도심 grid(격자) 추가\n",
    "folium.TileLayer('cartodbpositron', overlay=False).add_to(m)\n",
    "for _, row in asan_gdf.iterrows() :\n",
    "    color = row['color']\n",
    "    folium.GeoJson(\n",
    "        row['geometry'],\n",
    "        name=row['ADM_NM'],\n",
    "        style_function=lambda feature, color=color:{\n",
    "            'fillColor': color,\n",
    "            'color': 'black',\n",
    "            'weight': 1\n",
    "        }).add_to(m)\n",
    "# 맵 출력\n",
    "m"
   ]
  },
  {
   "attachments": {},
   "cell_type": "markdown",
   "metadata": {},
   "source": [
    "#### 격자(매핑용)"
   ]
  },
  {
   "cell_type": "code",
   "execution_count": 4,
   "metadata": {},
   "outputs": [],
   "source": [
    "# GeoJSON 파일 불러오기\n",
    "with open('SBJ_2405_001/12.아산시_격자(매핑용).geojson', encoding=\"UTF8\") as geojson_file:\n",
    "    geojson_data = json.load(geojson_file)\n",
    "grid_map_df = pd.json_normalize(geojson_data['features'])\n",
    "grid_map_df['geometry'] = grid_map_df['geometry.coordinates'].apply(lambda x : make_pol(x))\n",
    "# grid_map_df 데이터프레임을 GeoDataFrame으로 변환\n",
    "grid_map_df = gpd.GeoDataFrame(grid_map_df, geometry='geometry')"
   ]
  },
  {
   "cell_type": "code",
   "execution_count": null,
   "metadata": {},
   "outputs": [],
   "source": [
    "# map 생성\n",
    "m = folium.Map(location=Asan, tiles='cartodbpositron', zoom_start=11)\n",
    "\n",
    "# 필터링된 원도심 grid(격자) 추가\n",
    "\n",
    "for _, row in asan_gdf.iterrows() :\n",
    "    color = row['color']\n",
    "    folium.GeoJson(\n",
    "        row['geometry'],\n",
    "        name=row['ADM_NM'],\n",
    "        style_function=lambda feature, color=color:{\n",
    "            'fillColor': color,\n",
    "            'color': 'black',\n",
    "            'weight': 1\n",
    "        }).add_to(m)\n",
    "\n",
    "folium.TileLayer('cartodbpositron', overlay=False).add_to(m)\n",
    "grid_geojson = grid_map_df['geometry'].to_json()\n",
    "grid_layer = folium.GeoJson(\n",
    "    grid_geojson,\n",
    "    name=\"격자\",\n",
    "    style_function=lambda feature: {\n",
    "        'fillColor': 'none',\n",
    "        'color': 'black',\n",
    "        'weight': 0.3\n",
    "    }\n",
    ")\n",
    "grid_layer.add_to(m)\n",
    "# 맵 출력\n",
    "m"
   ]
  },
  {
   "attachments": {},
   "cell_type": "markdown",
   "metadata": {},
   "source": [
    "#### 아산시 상세 도로망"
   ]
  },
  {
   "cell_type": "code",
   "execution_count": 6,
   "metadata": {},
   "outputs": [],
   "source": [
    "# GeoJSON 파일 불러오기\n",
    "with open('SBJ_2405_001/4.아산시_상세도로망.geojson', encoding=\"UTF8\") as geojson_file:\n",
    "    geojson_data = json.load(geojson_file)\n",
    "roadsystem_df = pd.json_normalize(geojson_data['features'])\n",
    "roadsystem_df['geometry'] = roadsystem_df['geometry.coordinates'].apply(lambda x : make_lin(x))\n",
    "roadsystem_df['properties.link_id'] = roadsystem_df['properties.link_id'].astype(str)\n",
    "# roadsystem_df 데이터프레임을 GeoDataFrame으로 변환\n",
    "roadsystem_df = gpd.GeoDataFrame(roadsystem_df, geometry='geometry')"
   ]
  },
  {
   "cell_type": "code",
   "execution_count": null,
   "metadata": {},
   "outputs": [],
   "source": [
    "from shapely.ops import unary_union\n",
    "# map 생성\n",
    "m = folium.Map(location=Asan, tiles='cartodbpositron', zoom_start=11)\n",
    "\n",
    "# 통합도로망 추가\n",
    "folium.TileLayer('cartodbpositron', overlay=False).add_to(m)\n",
    "grid_layer = folium.GeoJson(\n",
    "    unary_union(asan_gdf['geometry']),\n",
    "    name=\"아산시 행정동\",\n",
    "    style_function=lambda feature: {\n",
    "        'fillColor': 'none',\n",
    "        'color': 'black',\n",
    "        'weight': 1\n",
    "    }\n",
    ")\n",
    "grid_layer.add_to(m)\n",
    "roal_geojson = roadsystem_df['geometry'].to_json()\n",
    "roal_layer = folium.GeoJson(\n",
    "    roal_geojson,\n",
    "    name=\"도로망\",\n",
    "    style_function=lambda feature: {\n",
    "        'fillColor': 'none',\n",
    "        'color': 'gray',\n",
    "        'weight': 3\n",
    "    })\n",
    "roal_layer.add_to(m)\n",
    "# 맵 출력\n",
    "m"
   ]
  },
  {
   "attachments": {},
   "cell_type": "markdown",
   "metadata": {},
   "source": [
    "#### 아산시 질병분류별 진료현황"
   ]
  },
  {
   "cell_type": "code",
   "execution_count": 5,
   "metadata": {},
   "outputs": [],
   "source": [
    "# 질병분류별 진료현황 데이터프레임\n",
    "present_condition_df = pd.read_csv('SBJ_2405_001/20.아산시_질병중분류별진료현황.csv', engine='python')\n",
    "# 질병코드 : 질병명 딕셔너리 생성\n",
    "dss_dic = dict(zip(present_condition_df['dss_gbn'], present_condition_df['dss_nm']))"
   ]
  },
  {
   "cell_type": "markdown",
   "metadata": {},
   "source": [
    "#### 아산시 AED위치정보"
   ]
  },
  {
   "cell_type": "code",
   "execution_count": 6,
   "metadata": {},
   "outputs": [
    {
     "name": "stderr",
     "output_type": "stream",
     "text": [
      "c:\\Users\\HJK\\anaconda3\\envs\\GIS\\lib\\site-packages\\pyproj\\crs\\crs.py:141: FutureWarning:\n",
      "\n",
      "'+init=<authority>:<code>' syntax is deprecated. '<authority>:<code>' is the preferred initialization method. When making the change, be mindful of axis order changes: https://pyproj4.github.io/pyproj/stable/gotchas.html#axis-order-changes-in-proj-6\n",
      "\n",
      "c:\\Users\\HJK\\anaconda3\\envs\\GIS\\lib\\site-packages\\pyproj\\crs\\crs.py:141: FutureWarning:\n",
      "\n",
      "'+init=<authority>:<code>' syntax is deprecated. '<authority>:<code>' is the preferred initialization method. When making the change, be mindful of axis order changes: https://pyproj4.github.io/pyproj/stable/gotchas.html#axis-order-changes-in-proj-6\n",
      "\n"
     ]
    }
   ],
   "source": [
    "AED_df = pd.read_csv('SBJ_2405_001/8.아산시_자동심장충격기(AED)위치정보.csv')\n",
    "AED_df = geo_transform(AED_df)"
   ]
  },
  {
   "attachments": {},
   "cell_type": "markdown",
   "metadata": {},
   "source": [
    "#### 아산시 병원정보"
   ]
  },
  {
   "cell_type": "code",
   "execution_count": 7,
   "metadata": {},
   "outputs": [
    {
     "name": "stderr",
     "output_type": "stream",
     "text": [
      "c:\\Users\\HJK\\anaconda3\\envs\\GIS\\lib\\site-packages\\pyproj\\crs\\crs.py:141: FutureWarning:\n",
      "\n",
      "'+init=<authority>:<code>' syntax is deprecated. '<authority>:<code>' is the preferred initialization method. When making the change, be mindful of axis order changes: https://pyproj4.github.io/pyproj/stable/gotchas.html#axis-order-changes-in-proj-6\n",
      "\n",
      "c:\\Users\\HJK\\anaconda3\\envs\\GIS\\lib\\site-packages\\pyproj\\crs\\crs.py:141: FutureWarning:\n",
      "\n",
      "'+init=<authority>:<code>' syntax is deprecated. '<authority>:<code>' is the preferred initialization method. When making the change, be mindful of axis order changes: https://pyproj4.github.io/pyproj/stable/gotchas.html#axis-order-changes-in-proj-6\n",
      "\n"
     ]
    }
   ],
   "source": [
    "# 병원 데이터프레임을 GeoPandas 데이터프레임으로 변환\n",
    "hospital_df = pd.read_csv('SBJ_2405_001/21.아산시_병원정보.csv')\n",
    "hospital_df = geo_transform(hospital_df)"
   ]
  },
  {
   "attachments": {},
   "cell_type": "markdown",
   "metadata": {},
   "source": [
    "#### 아산시 병원진료과목정보"
   ]
  },
  {
   "cell_type": "code",
   "execution_count": 14,
   "metadata": {},
   "outputs": [],
   "source": [
    "# 병원 데이터프레임을\n",
    "treatment_df = pd.read_csv('SBJ_2405_001/22.아산시_병원진료과목정보.csv')"
   ]
  },
  {
   "cell_type": "markdown",
   "metadata": {},
   "source": [
    "#### 아산시 약국현황"
   ]
  },
  {
   "cell_type": "code",
   "execution_count": 16,
   "metadata": {},
   "outputs": [
    {
     "name": "stderr",
     "output_type": "stream",
     "text": [
      "c:\\Users\\HJK\\anaconda3\\envs\\GIS\\lib\\site-packages\\pyproj\\crs\\crs.py:141: FutureWarning:\n",
      "\n",
      "'+init=<authority>:<code>' syntax is deprecated. '<authority>:<code>' is the preferred initialization method. When making the change, be mindful of axis order changes: https://pyproj4.github.io/pyproj/stable/gotchas.html#axis-order-changes-in-proj-6\n",
      "\n",
      "c:\\Users\\HJK\\anaconda3\\envs\\GIS\\lib\\site-packages\\pyproj\\crs\\crs.py:141: FutureWarning:\n",
      "\n",
      "'+init=<authority>:<code>' syntax is deprecated. '<authority>:<code>' is the preferred initialization method. When making the change, be mindful of axis order changes: https://pyproj4.github.io/pyproj/stable/gotchas.html#axis-order-changes-in-proj-6\n",
      "\n"
     ]
    }
   ],
   "source": [
    "# 약국 데이터프레임을 GeoPandas 데이터프레임으로 변환\n",
    "pharmacy_df = pd.read_csv('SBJ_2405_001/23.아산시_약국현황.csv')\n",
    "pharmacy_df = geo_transform(pharmacy_df)"
   ]
  },
  {
   "cell_type": "markdown",
   "metadata": {},
   "source": [
    "#### 아산시 도로명주소(건물)"
   ]
  },
  {
   "cell_type": "code",
   "execution_count": null,
   "metadata": {},
   "outputs": [],
   "source": [
    "# GeoJSON 파일 불러오기\n",
    "with open('SBJ_2405_001/11.아산시_도로명주소(건물).geojson', encoding=\"UTF8\") as geojson_file:\n",
    "    geojson_data = json.load(geojson_file)\n",
    "roadname_building_df = pd.json_normalize(geojson_data['features'])\n",
    "roadname_building_df = roadname_building_df[['properties.BD_MGT_SN', 'properties.RN_CD', 'properties.GRO_FLO_CO', 'properties.UND_FLO_CO', 'geometry.coordinates']]\n",
    "roadname_building_df['properties.GRO_FLO_CO'] = roadname_building_df['properties.GRO_FLO_CO'].astype(int)\n",
    "roadname_building_df['properties.UND_FLO_CO'] = roadname_building_df['properties.UND_FLO_CO'].astype(int)\n",
    "roadname_building_df['geometry'] = roadname_building_df['geometry.coordinates'].apply(lambda x : make_pol(x))\n",
    "\n",
    "# grid_map_df 데이터프레임을 GeoDataFrame으로 변환\n",
    "roadname_building_df = gpd.GeoDataFrame(roadname_building_df, geometry='geometry')"
   ]
  },
  {
   "cell_type": "code",
   "execution_count": null,
   "metadata": {},
   "outputs": [],
   "source": [
    "# map 생성\n",
    "m = folium.Map(location=Asan, tiles='cartodbpositron', zoom_start=14)\n",
    "\n",
    "# 층수로 색 구분하는 함수 설정\n",
    "def color_picker(floor):\n",
    "    if floor > 8:\n",
    "        return 'red'\n",
    "    elif 8 > floor >= 4:\n",
    "        return 'yellow'\n",
    "    elif 4 > floor:\n",
    "        return 'green'\n",
    "\n",
    "# 범례 생성\n",
    "legend_html = \"\"\"\n",
    "     <div style=\"position: fixed; \n",
    "     top: 50px; right: 50px; width: 100px; height: 90px; \n",
    "     border:2px solid grey; z-index:9999; font-size:14px;\n",
    "     background-color: rgba(255, 255, 255, 1);\n",
    "     \"> &nbsp; 건물높이 <br>\n",
    "     &nbsp; <i style=\"background:red\">&nbsp;</i>&nbsp; 8층이상 <br>\n",
    "     &nbsp; <i style=\"background:yellow\">&nbsp;</i>&nbsp; 4층이상 <br>\n",
    "     &nbsp; <i style=\"background:green\">&nbsp;</i>&nbsp; 4층이하\n",
    "     </div>\n",
    "     \"\"\"\n",
    "\n",
    "# 행정구역 polygon 추가\n",
    "for _, row in asan_gdf.iterrows() :\n",
    "    folium.GeoJson(\n",
    "        row['geometry'],\n",
    "        name=row['ADM_NM'],\n",
    "        style_function=lambda feature: {\n",
    "            'fillColor': 'none',\n",
    "            'color': 'blue',\n",
    "            'weight': 1\n",
    "        }).add_to(m)\n",
    "\n",
    "# GeoDataFrame을 순회하면서 Polygon을 지도에 추가\n",
    "for idx, row in roadname_building_df.iterrows():\n",
    "    popup_text = f\"지상:{row['properties.GRO_FLO_CO']}층, 지하:{row['properties.UND_FLO_CO']}층)\"\n",
    "    color = color_picker(row['properties.GRO_FLO_CO'])\n",
    "    folium.GeoJson(\n",
    "        row['geometry'].__geo_interface__,\n",
    "        style_function=lambda feature, color=color: {'color': color, 'weight': 1}\n",
    "    ).add_to(m).add_child(folium.Popup(popup_text, max_width=100))\n",
    "\n",
    "# 범례 추가\n",
    "m.get_root().html.add_child(folium.Element(legend_html))\n",
    "m"
   ]
  },
  {
   "cell_type": "markdown",
   "metadata": {},
   "source": [
    "## 시설위치 시각화"
   ]
  },
  {
   "cell_type": "markdown",
   "metadata": {},
   "source": [
    "#### 통합 MAP 제작"
   ]
  },
  {
   "cell_type": "code",
   "execution_count": null,
   "metadata": {},
   "outputs": [],
   "source": [
    "# 지도 생성\n",
    "m = folium.Map(location=[36.644, 127.485], zoom_start=14)\n",
    "\n",
    "# 기본 배경지도를 항상 표시하도록 설정 및 통합도로망 추가\n",
    "folium.TileLayer('openstreetmap', overlay=False).add_to(m)\n",
    "grid_geojson = tot_roadsystem['geometry'].to_json()\n",
    "grid_layer = folium.GeoJson(\n",
    "    grid_geojson,\n",
    "    name=\"도로망\",\n",
    "    style_function=lambda feature: {\n",
    "        'fillColor': 'none',\n",
    "        'color': 'gray',\n",
    "        'weight': 3\n",
    "    }\n",
    ")\n",
    "grid_layer.add_to(m)\n",
    "\n",
    "# 인도 추가\n",
    "m_sidewalk = folium.FeatureGroup(name=\"인도\", overlay=True)\n",
    "for _, row in filtered_sidewalk.iterrows() :\n",
    "    folium.GeoJson(\n",
    "        row['geometry'],\n",
    "        style_function=lambda feature: {\n",
    "            'fillColor': 'blue',\n",
    "            'color': 'blue',\n",
    "            'weight': 1\n",
    "        }).add_to(m_sidewalk)\n",
    "m_sidewalk.add_to(m)\n",
    "\n",
    "# 레이어 추가. 체크해제(비활성화)된 상태로 표시되도록 함\n",
    "m_2019 = folium.FeatureGroup(name=\"2019년\", overlay=False)\n",
    "m_2020 = folium.FeatureGroup(name=\"2020년\", overlay=False)\n",
    "m_2021 = folium.FeatureGroup(name=\"2021년\", overlay=False)\n",
    "\n",
    "# 면적으로 radius(반지름)을 계산하는 함수 정의\n",
    "import math\n",
    "def find_radius_from_area(area):\n",
    "    radius = math.sqrt(area / math.pi)\n",
    "    return radius\n",
    "# 시장 위치 매핑 및 find_radius_from_area 함수로 시장 면적만큼 radius 설정\n",
    "m_market = folium.FeatureGroup(name=\"시장\", overlay=True)\n",
    "for _, row in filtered_points_market.iterrows() :\n",
    "    popup_text = f\"{row['market_nm']} - {row['addr']}\"\n",
    "    folium.Circle(location=(row['lat'], row['lon']), radius=find_radius_from_area(row['area']), color='red', weight = 1,\n",
    "            fill='red', name=\"시장\").add_to(m_market).add_child(folium.Popup(popup_text, max_width=200))\n",
    "m_market.add_to(m)\n",
    "\n",
    "# 주차장 위치 매핑\n",
    "m_parking = folium.FeatureGroup(name=\"주차장\", overlay=True)\n",
    "for _, row in filtered_points_parking.iterrows() :\n",
    "    popup_text = f\"{row['carpark_nm']} - {row['slots']}대\"\n",
    "    folium.Marker(location=(row['lat'], row['lon']),\n",
    "    icon = folium.CustomIcon(icon_image='icon/주차장.png', icon_size=(20, 20))).add_to(m_parking).add_child(folium.Popup(popup_text, max_width=200))\n",
    "m_parking.add_to(m)\n",
    "\n",
    "# 공원 위치 매핑\n",
    "m_park = folium.FeatureGroup(name=\"공원\", overlay=True)\n",
    "for _, row in filtered_points_park.iterrows() :\n",
    "    popup_text = f\"{row['park_nm']}({row['park_gbn']})\"\n",
    "    folium.Circle(location=(row['lat'], row['lon']), radius=50, color='green', weight = 1,\n",
    "            fill='red', name=\"공원\").add_to(m_park).add_child(folium.Popup(popup_text, max_width=200))\n",
    "m_park.add_to(m)\n",
    "\n",
    "# 가로수 위치 매핑\n",
    "m_tree = folium.FeatureGroup(name=\"가로수\", overlay=True)\n",
    "for _, row in filtered_points_tree.iterrows() :\n",
    "    popup_text = f\"{row['수종명']}\"\n",
    "    folium.Marker(location=(row['lat'], row['lon']),\n",
    "    icon = folium.CustomIcon(icon_image='icon/가로수.png', icon_size=(20, 20))).add_to(m_tree).add_child(folium.Popup(popup_text, max_width=200))\n",
    "m_tree.add_to(m)\n",
    "\n",
    "# 문화재 위치 매핑\n",
    "m_culture = folium.FeatureGroup(name=\"문화재\", overlay=True)\n",
    "for _, row in filtered_points_culture.iterrows() :\n",
    "    popup_text = f\"{row['clt_nm']}\"\n",
    "    folium.Marker(location=(row['lat'], row['lon']),\n",
    "    icon = folium.CustomIcon(icon_image='icon/문화재.png', icon_size=(20, 20))).add_to(m_culture).add_child(folium.Popup(popup_text, max_width=200))\n",
    "m_culture.add_to(m)\n",
    "\n",
    "# 공공기관 매핑\n",
    "for public_name in filtered_points_public['inst_gbn'].unique():\n",
    "    m_public = folium.FeatureGroup(name=f\"{public_name}\", overlay=True)\n",
    "    subset = filtered_points_public[filtered_points_public['inst_gbn'] == public_name]\n",
    "    for _, row in subset.iterrows() :\n",
    "        popup_text = f\"{row['inst_nm']}({row['inst_gbn']})\"\n",
    "        folium.Marker(location=(row['lat'], row['lon']),\n",
    "        icon = folium.CustomIcon(icon_image=f\"icon/{public_name}.png\", icon_size=(20, 20))).add_to(m_public).add_child(folium.Popup(popup_text, max_width=200))\n",
    "    else:\n",
    "        m_public.add_to(m)\n",
    "\n",
    "# LayerControl을 사용하여 연도 선택\n",
    "folium.LayerControl(collapsed=False).add_to(m)\n",
    "\n",
    "# 지도 출력\n",
    "m"
   ]
  },
  {
   "cell_type": "code",
   "execution_count": null,
   "metadata": {},
   "outputs": [],
   "source": [
    "m.save(\"visualization/7. 원도심 시설 분석/원도심 시설위치 시각화.html\")"
   ]
  }
 ],
 "metadata": {
  "kernelspec": {
   "display_name": "Python 3.8.16 ('GIS')",
   "language": "python",
   "name": "python3"
  },
  "language_info": {
   "codemirror_mode": {
    "name": "ipython",
    "version": 3
   },
   "file_extension": ".py",
   "mimetype": "text/x-python",
   "name": "python",
   "nbconvert_exporter": "python",
   "pygments_lexer": "ipython3",
   "version": "3.8.16"
  },
  "orig_nbformat": 4,
  "vscode": {
   "interpreter": {
    "hash": "4c2ab1d16d29501e38a3ee1978e97de755e76d74519759c8e0a07f6b08052ab1"
   }
  }
 },
 "nbformat": 4,
 "nbformat_minor": 2
}
